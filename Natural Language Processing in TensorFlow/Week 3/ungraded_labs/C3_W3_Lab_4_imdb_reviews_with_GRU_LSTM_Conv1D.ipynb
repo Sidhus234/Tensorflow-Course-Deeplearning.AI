{
 "cells": [
  {
   "cell_type": "markdown",
   "metadata": {
    "colab_type": "text",
    "id": "view-in-github"
   },
   "source": [
    "<a href=\"https://colab.research.google.com/github/https-deeplearning-ai/tensorflow-1-public/blob/adding_C3/C3/W3/ungraded_labs/C3_W3_Lab_4_imdb_reviews_with_GRU_LSTM_Conv1D.ipynb\" target=\"_parent\"><img src=\"https://colab.research.google.com/assets/colab-badge.svg\" alt=\"Open In Colab\"/></a>"
   ]
  },
  {
   "cell_type": "code",
   "execution_count": null,
   "metadata": {
    "id": "zX4Kg8DUTKWO"
   },
   "outputs": [],
   "source": [
    "#@title Licensed under the Apache License, Version 2.0 (the \"License\");\n",
    "# you may not use this file except in compliance with the License.\n",
    "# You may obtain a copy of the License at\n",
    "#\n",
    "# https://www.apache.org/licenses/LICENSE-2.0\n",
    "#\n",
    "# Unless required by applicable law or agreed to in writing, software\n",
    "# distributed under the License is distributed on an \"AS IS\" BASIS,\n",
    "# WITHOUT WARRANTIES OR CONDITIONS OF ANY KIND, either express or implied.\n",
    "# See the License for the specific language governing permissions and\n",
    "# limitations under the License."
   ]
  },
  {
   "cell_type": "markdown",
   "metadata": {
    "id": "e7LTWrXvT6LK"
   },
   "source": [
    "**Note:** This notebook can run using TensorFlow 2.5.0"
   ]
  },
  {
   "cell_type": "code",
   "execution_count": null,
   "metadata": {
    "id": "I6NpdaKzT6LK"
   },
   "outputs": [],
   "source": [
    "#!pip install tensorflow==2.5.0"
   ]
  },
  {
   "cell_type": "code",
   "execution_count": 1,
   "metadata": {
    "id": "P-AhVYeBWgQ3"
   },
   "outputs": [
    {
     "name": "stdout",
     "output_type": "stream",
     "text": [
      "2.8.0\n"
     ]
    }
   ],
   "source": [
    "import tensorflow as tf\n",
    "print(tf.__version__)\n",
    "\n",
    "# !pip install -q tensorflow-datasets\n",
    "\n",
    "import tensorflow_datasets as tfds\n",
    "imdb, info = tfds.load(\"imdb_reviews\", with_info=True, as_supervised=True)\n"
   ]
  },
  {
   "cell_type": "code",
   "execution_count": 2,
   "metadata": {
    "id": "wHQ2Ko0zl7M4"
   },
   "outputs": [],
   "source": [
    "import numpy as np\n",
    "\n",
    "train_data, test_data = imdb['train'], imdb['test']\n",
    "\n",
    "training_sentences = []\n",
    "training_labels = []\n",
    "\n",
    "testing_sentences = []\n",
    "testing_labels = []\n",
    "\n",
    "# str(s.tonumpy()) is needed in Python3 instead of just s.numpy()\n",
    "for s,l in train_data:\n",
    "  training_sentences.append(str(s.numpy()))\n",
    "  training_labels.append(l.numpy())\n",
    "  \n",
    "for s,l in test_data:\n",
    "  testing_sentences.append(str(s.numpy()))\n",
    "  testing_labels.append(l.numpy())\n",
    "  \n",
    "training_labels_final = np.array(training_labels)\n",
    "testing_labels_final = np.array(testing_labels)\n"
   ]
  },
  {
   "cell_type": "code",
   "execution_count": 3,
   "metadata": {
    "id": "7n15yyMdmoH1"
   },
   "outputs": [],
   "source": [
    "vocab_size = 10000\n",
    "embedding_dim = 16\n",
    "max_length = 120\n",
    "trunc_type='post'\n",
    "oov_tok = \"<OOV>\"\n",
    "\n",
    "\n",
    "from tensorflow.keras.preprocessing.text import Tokenizer\n",
    "from tensorflow.keras.preprocessing.sequence import pad_sequences\n",
    "\n",
    "tokenizer = Tokenizer(num_words = vocab_size, oov_token=oov_tok)\n",
    "tokenizer.fit_on_texts(training_sentences)\n",
    "word_index = tokenizer.word_index\n",
    "sequences = tokenizer.texts_to_sequences(training_sentences)\n",
    "padded = pad_sequences(sequences,maxlen=max_length, truncating=trunc_type)\n",
    "\n",
    "testing_sequences = tokenizer.texts_to_sequences(testing_sentences)\n",
    "testing_padded = pad_sequences(testing_sequences,maxlen=max_length)\n"
   ]
  },
  {
   "cell_type": "code",
   "execution_count": 4,
   "metadata": {
    "id": "9axf0uIXVMhO"
   },
   "outputs": [
    {
     "name": "stdout",
     "output_type": "stream",
     "text": [
      "? ? ? ? ? ? ? b'i have been known to fall asleep during films but this is usually due to a combination of things including really tired being warm and comfortable on the <OOV> and having just eaten a lot however on this occasion i fell asleep because the film was rubbish the plot development was constant constantly slow and boring things seemed to happen but with no explanation of what was causing them or why i admit i may have missed part of the film but i watched the majority of it and everything just seemed to happen of its own <OOV> without any real concern for anything else i cant recommend this film at all '\n",
      "b'I have been known to fall asleep during films, but this is usually due to a combination of things including, really tired, being warm and comfortable on the sette and having just eaten a lot. However on this occasion I fell asleep because the film was rubbish. The plot development was constant. Constantly slow and boring. Things seemed to happen, but with no explanation of what was causing them or why. I admit, I may have missed part of the film, but i watched the majority of it and everything just seemed to happen of its own accord without any real concern for anything else. I cant recommend this film at all.'\n"
     ]
    }
   ],
   "source": [
    "reverse_word_index = dict([(value, key) for (key, value) in word_index.items()])\n",
    "\n",
    "def decode_review(text):\n",
    "    return ' '.join([reverse_word_index.get(i, '?') for i in text])\n",
    "\n",
    "print(decode_review(padded[1]))\n",
    "print(training_sentences[1])"
   ]
  },
  {
   "cell_type": "code",
   "execution_count": 5,
   "metadata": {
    "id": "5NEpdhb8AxID"
   },
   "outputs": [
    {
     "name": "stdout",
     "output_type": "stream",
     "text": [
      "Model: \"sequential\"\n",
      "_________________________________________________________________\n",
      " Layer (type)                Output Shape              Param #   \n",
      "=================================================================\n",
      " embedding (Embedding)       (None, 120, 16)           160000    \n",
      "                                                                 \n",
      " bidirectional (Bidirectiona  (None, 64)               9600      \n",
      " l)                                                              \n",
      "                                                                 \n",
      " dense (Dense)               (None, 6)                 390       \n",
      "                                                                 \n",
      " dense_1 (Dense)             (None, 1)                 7         \n",
      "                                                                 \n",
      "=================================================================\n",
      "Total params: 169,997\n",
      "Trainable params: 169,997\n",
      "Non-trainable params: 0\n",
      "_________________________________________________________________\n"
     ]
    }
   ],
   "source": [
    "model = tf.keras.Sequential([\n",
    "    tf.keras.layers.Embedding(vocab_size, embedding_dim, input_length=max_length),\n",
    "    tf.keras.layers.Bidirectional(tf.keras.layers.GRU(32)),\n",
    "    tf.keras.layers.Dense(6, activation='relu'),\n",
    "    tf.keras.layers.Dense(1, activation='sigmoid')\n",
    "])\n",
    "model.compile(loss='binary_crossentropy',optimizer='adam',metrics=['accuracy'])\n",
    "model.summary()\n"
   ]
  },
  {
   "cell_type": "code",
   "execution_count": 6,
   "metadata": {
    "id": "V5LLrXC-uNX6"
   },
   "outputs": [
    {
     "name": "stdout",
     "output_type": "stream",
     "text": [
      "Epoch 1/50\n",
      "WARNING:tensorflow:AutoGraph could not transform <function Model.make_train_function.<locals>.train_function at 0x000002E28E69BA68> and will run it as-is.\n",
      "Please report this to the TensorFlow team. When filing the bug, set the verbosity to 10 (on Linux, `export AUTOGRAPH_VERBOSITY=10`) and attach the full output.\n",
      "Cause: 'arguments' object has no attribute 'posonlyargs'\n",
      "To silence this warning, decorate the function with @tf.autograph.experimental.do_not_convert\n"
     ]
    },
    {
     "name": "stderr",
     "output_type": "stream",
     "text": [
      "WARNING:tensorflow:AutoGraph could not transform <function Model.make_train_function.<locals>.train_function at 0x000002E28E69BA68> and will run it as-is.\n",
      "Please report this to the TensorFlow team. When filing the bug, set the verbosity to 10 (on Linux, `export AUTOGRAPH_VERBOSITY=10`) and attach the full output.\n",
      "Cause: 'arguments' object has no attribute 'posonlyargs'\n",
      "To silence this warning, decorate the function with @tf.autograph.experimental.do_not_convert\n"
     ]
    },
    {
     "name": "stdout",
     "output_type": "stream",
     "text": [
      "WARNING: AutoGraph could not transform <function Model.make_train_function.<locals>.train_function at 0x000002E28E69BA68> and will run it as-is.\n",
      "Please report this to the TensorFlow team. When filing the bug, set the verbosity to 10 (on Linux, `export AUTOGRAPH_VERBOSITY=10`) and attach the full output.\n",
      "Cause: 'arguments' object has no attribute 'posonlyargs'\n",
      "To silence this warning, decorate the function with @tf.autograph.experimental.do_not_convert\n",
      "782/782 [==============================] - ETA: 0s - loss: 0.5793 - accuracy: 0.6706WARNING:tensorflow:AutoGraph could not transform <function Model.make_test_function.<locals>.test_function at 0x000002E29A2BC048> and will run it as-is.\n",
      "Please report this to the TensorFlow team. When filing the bug, set the verbosity to 10 (on Linux, `export AUTOGRAPH_VERBOSITY=10`) and attach the full output.\n",
      "Cause: 'arguments' object has no attribute 'posonlyargs'\n",
      "To silence this warning, decorate the function with @tf.autograph.experimental.do_not_convert\n"
     ]
    },
    {
     "name": "stderr",
     "output_type": "stream",
     "text": [
      "WARNING:tensorflow:AutoGraph could not transform <function Model.make_test_function.<locals>.test_function at 0x000002E29A2BC048> and will run it as-is.\n",
      "Please report this to the TensorFlow team. When filing the bug, set the verbosity to 10 (on Linux, `export AUTOGRAPH_VERBOSITY=10`) and attach the full output.\n",
      "Cause: 'arguments' object has no attribute 'posonlyargs'\n",
      "To silence this warning, decorate the function with @tf.autograph.experimental.do_not_convert\n"
     ]
    },
    {
     "name": "stdout",
     "output_type": "stream",
     "text": [
      "WARNING: AutoGraph could not transform <function Model.make_test_function.<locals>.test_function at 0x000002E29A2BC048> and will run it as-is.\n",
      "Please report this to the TensorFlow team. When filing the bug, set the verbosity to 10 (on Linux, `export AUTOGRAPH_VERBOSITY=10`) and attach the full output.\n",
      "Cause: 'arguments' object has no attribute 'posonlyargs'\n",
      "To silence this warning, decorate the function with @tf.autograph.experimental.do_not_convert\n",
      "782/782 [==============================] - 56s 68ms/step - loss: 0.5793 - accuracy: 0.6706 - val_loss: 0.4135 - val_accuracy: 0.8138\n",
      "Epoch 2/50\n",
      "782/782 [==============================] - 53s 68ms/step - loss: 0.3230 - accuracy: 0.8674 - val_loss: 0.3583 - val_accuracy: 0.8484\n",
      "Epoch 3/50\n",
      "782/782 [==============================] - 53s 67ms/step - loss: 0.2440 - accuracy: 0.9069 - val_loss: 0.3731 - val_accuracy: 0.8376\n",
      "Epoch 4/50\n",
      "782/782 [==============================] - 53s 68ms/step - loss: 0.1877 - accuracy: 0.9316 - val_loss: 0.4362 - val_accuracy: 0.8316\n",
      "Epoch 5/50\n",
      "782/782 [==============================] - 54s 69ms/step - loss: 0.1456 - accuracy: 0.9502 - val_loss: 0.4663 - val_accuracy: 0.8251\n",
      "Epoch 6/50\n",
      "782/782 [==============================] - 53s 68ms/step - loss: 0.1090 - accuracy: 0.9638 - val_loss: 0.5729 - val_accuracy: 0.8221\n",
      "Epoch 7/50\n",
      "782/782 [==============================] - 54s 69ms/step - loss: 0.0774 - accuracy: 0.9748 - val_loss: 0.6259 - val_accuracy: 0.8089\n",
      "Epoch 8/50\n",
      "782/782 [==============================] - 53s 68ms/step - loss: 0.0495 - accuracy: 0.9855 - val_loss: 0.7101 - val_accuracy: 0.8159\n",
      "Epoch 9/50\n",
      "782/782 [==============================] - 54s 69ms/step - loss: 0.0337 - accuracy: 0.9902 - val_loss: 0.8649 - val_accuracy: 0.8127\n",
      "Epoch 10/50\n",
      "782/782 [==============================] - 53s 68ms/step - loss: 0.0257 - accuracy: 0.9923 - val_loss: 0.9534 - val_accuracy: 0.7984\n",
      "Epoch 11/50\n",
      "782/782 [==============================] - 55s 70ms/step - loss: 0.0205 - accuracy: 0.9940 - val_loss: 0.9949 - val_accuracy: 0.8111\n",
      "Epoch 12/50\n",
      "782/782 [==============================] - 54s 69ms/step - loss: 0.0146 - accuracy: 0.9952 - val_loss: 1.1273 - val_accuracy: 0.7977\n",
      "Epoch 13/50\n",
      "782/782 [==============================] - 53s 68ms/step - loss: 0.0123 - accuracy: 0.9958 - val_loss: 1.1142 - val_accuracy: 0.7993\n",
      "Epoch 14/50\n",
      "782/782 [==============================] - 55s 70ms/step - loss: 0.0137 - accuracy: 0.9948 - val_loss: 1.1147 - val_accuracy: 0.8034\n",
      "Epoch 15/50\n",
      "782/782 [==============================] - 53s 68ms/step - loss: 0.0130 - accuracy: 0.9955 - val_loss: 1.1512 - val_accuracy: 0.8018\n",
      "Epoch 16/50\n",
      "782/782 [==============================] - 55s 70ms/step - loss: 0.0112 - accuracy: 0.9965 - val_loss: 1.1874 - val_accuracy: 0.7976\n",
      "Epoch 17/50\n",
      "782/782 [==============================] - 53s 68ms/step - loss: 0.0066 - accuracy: 0.9980 - val_loss: 1.2738 - val_accuracy: 0.8108\n",
      "Epoch 18/50\n",
      "782/782 [==============================] - 55s 70ms/step - loss: 0.0024 - accuracy: 0.9994 - val_loss: 1.4190 - val_accuracy: 0.8076\n",
      "Epoch 19/50\n",
      "782/782 [==============================] - 53s 68ms/step - loss: 0.0089 - accuracy: 0.9974 - val_loss: 1.3521 - val_accuracy: 0.8095\n",
      "Epoch 20/50\n",
      "782/782 [==============================] - 54s 69ms/step - loss: 0.0046 - accuracy: 0.9986 - val_loss: 1.3665 - val_accuracy: 0.8105\n",
      "Epoch 21/50\n",
      "782/782 [==============================] - 53s 68ms/step - loss: 0.0057 - accuracy: 0.9980 - val_loss: 1.3810 - val_accuracy: 0.8073\n",
      "Epoch 22/50\n",
      "782/782 [==============================] - 54s 70ms/step - loss: 0.0053 - accuracy: 0.9980 - val_loss: 1.4855 - val_accuracy: 0.8080\n",
      "Epoch 23/50\n",
      "782/782 [==============================] - 53s 68ms/step - loss: 0.0039 - accuracy: 0.9988 - val_loss: 1.4739 - val_accuracy: 0.8102\n",
      "Epoch 24/50\n",
      "782/782 [==============================] - 55s 71ms/step - loss: 0.0051 - accuracy: 0.9982 - val_loss: 1.5491 - val_accuracy: 0.7981\n",
      "Epoch 25/50\n",
      "782/782 [==============================] - 54s 69ms/step - loss: 0.0053 - accuracy: 0.9982 - val_loss: 1.5398 - val_accuracy: 0.7984\n",
      "Epoch 26/50\n",
      "782/782 [==============================] - 54s 69ms/step - loss: 0.0041 - accuracy: 0.9986 - val_loss: 1.4570 - val_accuracy: 0.8031\n",
      "Epoch 27/50\n",
      "782/782 [==============================] - 55s 71ms/step - loss: 0.0052 - accuracy: 0.9981 - val_loss: 1.5946 - val_accuracy: 0.8060\n",
      "Epoch 28/50\n",
      "782/782 [==============================] - 54s 69ms/step - loss: 0.0036 - accuracy: 0.9988 - val_loss: 1.5760 - val_accuracy: 0.8090\n",
      "Epoch 29/50\n",
      "782/782 [==============================] - 55s 70ms/step - loss: 0.0023 - accuracy: 0.9991 - val_loss: 1.6559 - val_accuracy: 0.8087\n",
      "Epoch 30/50\n",
      "782/782 [==============================] - 54s 69ms/step - loss: 0.0017 - accuracy: 0.9994 - val_loss: 1.5980 - val_accuracy: 0.8056\n",
      "Epoch 31/50\n",
      "782/782 [==============================] - 55s 71ms/step - loss: 0.0051 - accuracy: 0.9982 - val_loss: 1.6089 - val_accuracy: 0.8030\n",
      "Epoch 32/50\n",
      "782/782 [==============================] - 54s 69ms/step - loss: 0.0039 - accuracy: 0.9986 - val_loss: 1.6376 - val_accuracy: 0.8079\n",
      "Epoch 33/50\n",
      "782/782 [==============================] - 54s 69ms/step - loss: 9.1028e-04 - accuracy: 0.9998 - val_loss: 1.6079 - val_accuracy: 0.8064\n",
      "Epoch 34/50\n",
      "782/782 [==============================] - 55s 70ms/step - loss: 1.0225e-04 - accuracy: 1.0000 - val_loss: 1.7197 - val_accuracy: 0.8083\n",
      "Epoch 35/50\n",
      "782/782 [==============================] - 54s 69ms/step - loss: 1.7802e-05 - accuracy: 1.0000 - val_loss: 1.7616 - val_accuracy: 0.8090\n",
      "Epoch 36/50\n",
      "782/782 [==============================] - 55s 71ms/step - loss: 1.1669e-05 - accuracy: 1.0000 - val_loss: 1.8028 - val_accuracy: 0.8091\n",
      "Epoch 37/50\n",
      "782/782 [==============================] - 54s 69ms/step - loss: 8.4100e-06 - accuracy: 1.0000 - val_loss: 1.8460 - val_accuracy: 0.8090\n",
      "Epoch 38/50\n",
      "782/782 [==============================] - 55s 70ms/step - loss: 6.0786e-06 - accuracy: 1.0000 - val_loss: 1.8924 - val_accuracy: 0.8097\n",
      "Epoch 39/50\n",
      "782/782 [==============================] - 55s 70ms/step - loss: 4.3444e-06 - accuracy: 1.0000 - val_loss: 1.9415 - val_accuracy: 0.8099\n",
      "Epoch 40/50\n",
      "782/782 [==============================] - 57s 72ms/step - loss: 3.0653e-06 - accuracy: 1.0000 - val_loss: 1.9936 - val_accuracy: 0.8098\n",
      "Epoch 41/50\n",
      "782/782 [==============================] - 54s 69ms/step - loss: 2.1374e-06 - accuracy: 1.0000 - val_loss: 2.0489 - val_accuracy: 0.8096\n",
      "Epoch 42/50\n",
      "782/782 [==============================] - 55s 71ms/step - loss: 1.4791e-06 - accuracy: 1.0000 - val_loss: 2.1074 - val_accuracy: 0.8094\n",
      "Epoch 43/50\n",
      "782/782 [==============================] - 54s 69ms/step - loss: 1.0137e-06 - accuracy: 1.0000 - val_loss: 2.1669 - val_accuracy: 0.8092\n",
      "Epoch 44/50\n",
      "782/782 [==============================] - 55s 71ms/step - loss: 6.8817e-07 - accuracy: 1.0000 - val_loss: 2.2292 - val_accuracy: 0.8092\n",
      "Epoch 45/50\n",
      "782/782 [==============================] - 57s 73ms/step - loss: 4.6595e-07 - accuracy: 1.0000 - val_loss: 2.2924 - val_accuracy: 0.8091\n",
      "Epoch 46/50\n",
      "782/782 [==============================] - 54s 70ms/step - loss: 3.1271e-07 - accuracy: 1.0000 - val_loss: 2.3579 - val_accuracy: 0.8089\n",
      "Epoch 47/50\n",
      "782/782 [==============================] - 55s 71ms/step - loss: 2.1032e-07 - accuracy: 1.0000 - val_loss: 2.4238 - val_accuracy: 0.8082\n",
      "Epoch 48/50\n",
      "782/782 [==============================] - 54s 69ms/step - loss: 1.4136e-07 - accuracy: 1.0000 - val_loss: 2.4890 - val_accuracy: 0.8080\n",
      "Epoch 49/50\n",
      "782/782 [==============================] - 56s 72ms/step - loss: 9.5234e-08 - accuracy: 1.0000 - val_loss: 2.5549 - val_accuracy: 0.8079\n",
      "Epoch 50/50\n",
      "782/782 [==============================] - 54s 69ms/step - loss: 6.4337e-08 - accuracy: 1.0000 - val_loss: 2.6188 - val_accuracy: 0.8081\n"
     ]
    }
   ],
   "source": [
    "num_epochs = 50\n",
    "history = model.fit(padded, training_labels_final, epochs=num_epochs, validation_data=(testing_padded, testing_labels_final))"
   ]
  },
  {
   "cell_type": "code",
   "execution_count": 7,
   "metadata": {
    "id": "nHGYuU4jPYaj"
   },
   "outputs": [
    {
     "data": {
      "image/png": "[encoded data removed]",
      "text/plain": [
       "<Figure size 432x288 with 1 Axes>"
      ]
     },
     "metadata": {
      "needs_background": "light"
     },
     "output_type": "display_data"
    },
    {
     "data": {
      "image/png": "[encoded data removed]",
      "text/plain": [
       "<Figure size 432x288 with 1 Axes>"
      ]
     },
     "metadata": {
      "needs_background": "light"
     },
     "output_type": "display_data"
    }
   ],
   "source": [
    "import matplotlib.pyplot as plt\n",
    "\n",
    "\n",
    "def plot_graphs(history, string):\n",
    "  plt.plot(history.history[string])\n",
    "  plt.plot(history.history['val_'+string])\n",
    "  plt.xlabel(\"Epochs\")\n",
    "  plt.ylabel(string)\n",
    "  plt.legend([string, 'val_'+string])\n",
    "  plt.show()\n",
    "\n",
    "plot_graphs(history, 'accuracy')\n",
    "plot_graphs(history, 'loss')"
   ]
  },
  {
   "cell_type": "code",
   "execution_count": 8,
   "metadata": {
    "id": "wSualgGPPK0S"
   },
   "outputs": [
    {
     "name": "stdout",
     "output_type": "stream",
     "text": [
      "Model: \"sequential_1\"\n",
      "_________________________________________________________________\n",
      " Layer (type)                Output Shape              Param #   \n",
      "=================================================================\n",
      " embedding_1 (Embedding)     (None, 120, 16)           160000    \n",
      "                                                                 \n",
      " bidirectional_1 (Bidirectio  (None, 64)               12544     \n",
      " nal)                                                            \n",
      "                                                                 \n",
      " dense_2 (Dense)             (None, 6)                 390       \n",
      "                                                                 \n",
      " dense_3 (Dense)             (None, 1)                 7         \n",
      "                                                                 \n",
      "=================================================================\n",
      "Total params: 172,941\n",
      "Trainable params: 172,941\n",
      "Non-trainable params: 0\n",
      "_________________________________________________________________\n"
     ]
    }
   ],
   "source": [
    "# Model Definition with LSTM\n",
    "model = tf.keras.Sequential([\n",
    "    tf.keras.layers.Embedding(vocab_size, embedding_dim, input_length=max_length),\n",
    "    tf.keras.layers.Bidirectional(tf.keras.layers.LSTM(32)),\n",
    "    tf.keras.layers.Dense(6, activation='relu'),\n",
    "    tf.keras.layers.Dense(1, activation='sigmoid')\n",
    "])\n",
    "model.compile(loss='binary_crossentropy',optimizer='adam',metrics=['accuracy'])\n",
    "model.summary()\n"
   ]
  },
  {
   "cell_type": "code",
   "execution_count": 9,
   "metadata": {
    "id": "K_Jc7cY3Qxke"
   },
   "outputs": [
    {
     "name": "stdout",
     "output_type": "stream",
     "text": [
      "Model: \"sequential_2\"\n",
      "_________________________________________________________________\n",
      " Layer (type)                Output Shape              Param #   \n",
      "=================================================================\n",
      " embedding_2 (Embedding)     (None, 120, 16)           160000    \n",
      "                                                                 \n",
      " conv1d (Conv1D)             (None, 116, 128)          10368     \n",
      "                                                                 \n",
      " global_average_pooling1d (G  (None, 128)              0         \n",
      " lobalAveragePooling1D)                                          \n",
      "                                                                 \n",
      " dense_4 (Dense)             (None, 6)                 774       \n",
      "                                                                 \n",
      " dense_5 (Dense)             (None, 1)                 7         \n",
      "                                                                 \n",
      "=================================================================\n",
      "Total params: 171,149\n",
      "Trainable params: 171,149\n",
      "Non-trainable params: 0\n",
      "_________________________________________________________________\n"
     ]
    }
   ],
   "source": [
    "# Model Definition with Conv1D\n",
    "model = tf.keras.Sequential([\n",
    "    tf.keras.layers.Embedding(vocab_size, embedding_dim, input_length=max_length),\n",
    "    tf.keras.layers.Conv1D(128, 5, activation='relu'),\n",
    "    tf.keras.layers.GlobalAveragePooling1D(),\n",
    "    tf.keras.layers.Dense(6, activation='relu'),\n",
    "    tf.keras.layers.Dense(1, activation='sigmoid')\n",
    "])\n",
    "model.compile(loss='binary_crossentropy',optimizer='adam',metrics=['accuracy'])\n",
    "model.summary()\n"
   ]
  },
  {
   "cell_type": "code",
   "execution_count": null,
   "metadata": {},
   "outputs": [],
   "source": []
  }
 ],
 "metadata": {
  "accelerator": "GPU",
  "colab": {
   "collapsed_sections": [],
   "include_colab_link": true,
   "name": "C3_W3_Lab_4_imdb_reviews_with_GRU_LSTM_Conv1D.ipynb",
   "provenance": [],
   "toc_visible": true
  },
  "kernelspec": {
   "display_name": "Python 3",
   "language": "python",
   "name": "python3"
  },
  "language_info": {
   "codemirror_mode": {
    "name": "ipython",
    "version": 3
   },
   "file_extension": ".py",
   "mimetype": "text/x-python",
   "name": "python",
   "nbconvert_exporter": "python",
   "pygments_lexer": "ipython3",
   "version": "3.7.6"
  }
 },
 "nbformat": 4,
 "nbformat_minor": 1
}
