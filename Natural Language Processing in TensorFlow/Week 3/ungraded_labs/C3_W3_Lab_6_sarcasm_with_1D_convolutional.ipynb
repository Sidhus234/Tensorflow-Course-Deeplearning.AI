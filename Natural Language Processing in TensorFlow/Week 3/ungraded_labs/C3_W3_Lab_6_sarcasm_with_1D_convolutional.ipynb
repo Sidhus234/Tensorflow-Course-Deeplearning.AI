{
 "cells": [
  {
   "cell_type": "markdown",
   "metadata": {
    "colab_type": "text",
    "id": "view-in-github"
   },
   "source": [
    "<a href=\"https://colab.research.google.com/github/https-deeplearning-ai/tensorflow-1-public/blob/adding_C3/C3/W3/ungraded_labs/C3_W3_Lab_6_sarcasm_with_1D_convolutional.ipynb\" target=\"_parent\"><img src=\"https://colab.research.google.com/assets/colab-badge.svg\" alt=\"Open In Colab\"/></a>"
   ]
  },
  {
   "cell_type": "code",
   "execution_count": null,
   "metadata": {
    "id": "zX4Kg8DUTKWO"
   },
   "outputs": [],
   "source": [
    "#@title Licensed under the Apache License, Version 2.0 (the \"License\");\n",
    "# you may not use this file except in compliance with the License.\n",
    "# You may obtain a copy of the License at\n",
    "#\n",
    "# https://www.apache.org/licenses/LICENSE-2.0\n",
    "#\n",
    "# Unless required by applicable law or agreed to in writing, software\n",
    "# distributed under the License is distributed on an \"AS IS\" BASIS,\n",
    "# WITHOUT WARRANTIES OR CONDITIONS OF ANY KIND, either express or implied.\n",
    "# See the License for the specific language governing permissions and\n",
    "# limitations under the License."
   ]
  },
  {
   "cell_type": "markdown",
   "metadata": {
    "id": "mUPYeXlcPewR"
   },
   "source": [
    "**IMPORTANT NOTE:** This notebook is designed to run as a Colab. Click the button on top that says, `Open in Colab`, to run this notebook as a Colab. Running the notebook on your local machine might result in some of the code blocks throwing errors."
   ]
  },
  {
   "cell_type": "markdown",
   "metadata": {
    "id": "raWPUZrePewR"
   },
   "source": [
    "**Note:** This notebook can run using TensorFlow 2.5.0"
   ]
  },
  {
   "cell_type": "code",
   "execution_count": null,
   "metadata": {
    "id": "EmYnth-EPewR"
   },
   "outputs": [],
   "source": [
    "#!pip install tensorflow==2.5.0"
   ]
  },
  {
   "cell_type": "code",
   "execution_count": 1,
   "metadata": {
    "colab": {
     "base_uri": "https://localhost:8080/"
    },
    "id": "jGwXGIXvFhXW",
    "outputId": "b4eec147-3416-4c4c-fe12-659bc72b30d9"
   },
   "outputs": [
    {
     "name": "stderr",
     "output_type": "stream",
     "text": [
      "'gdown' is not recognized as an internal or external command,\n",
      "operable program or batch file.\n"
     ]
    },
    {
     "name": "stdout",
     "output_type": "stream",
     "text": [
      "Model: \"sequential\"\n",
      "_________________________________________________________________\n",
      " Layer (type)                Output Shape              Param #   \n",
      "=================================================================\n",
      " embedding (Embedding)       (None, 120, 16)           16000     \n",
      "                                                                 \n",
      " conv1d (Conv1D)             (None, 116, 128)          10368     \n",
      "                                                                 \n",
      " global_max_pooling1d (Globa  (None, 128)              0         \n",
      " lMaxPooling1D)                                                  \n",
      "                                                                 \n",
      " dense (Dense)               (None, 24)                3096      \n",
      "                                                                 \n",
      " dense_1 (Dense)             (None, 1)                 25        \n",
      "                                                                 \n",
      "=================================================================\n",
      "Total params: 29,489\n",
      "Trainable params: 29,489\n",
      "Non-trainable params: 0\n",
      "_________________________________________________________________\n",
      "Epoch 1/50\n",
      "WARNING:tensorflow:AutoGraph could not transform <function Model.make_train_function.<locals>.train_function at 0x00000228C4DD6438> and will run it as-is.\n",
      "Please report this to the TensorFlow team. When filing the bug, set the verbosity to 10 (on Linux, `export AUTOGRAPH_VERBOSITY=10`) and attach the full output.\n",
      "Cause: 'arguments' object has no attribute 'posonlyargs'\n",
      "To silence this warning, decorate the function with @tf.autograph.experimental.do_not_convert\n",
      "WARNING: AutoGraph could not transform <function Model.make_train_function.<locals>.train_function at 0x00000228C4DD6438> and will run it as-is.\n",
      "Please report this to the TensorFlow team. When filing the bug, set the verbosity to 10 (on Linux, `export AUTOGRAPH_VERBOSITY=10`) and attach the full output.\n",
      "Cause: 'arguments' object has no attribute 'posonlyargs'\n",
      "To silence this warning, decorate the function with @tf.autograph.experimental.do_not_convert\n",
      "622/625 [============================>.] - ETA: 0s - loss: 0.4733 - accuracy: 0.7579WARNING:tensorflow:AutoGraph could not transform <function Model.make_test_function.<locals>.test_function at 0x00000228C42A5828> and will run it as-is.\n",
      "Please report this to the TensorFlow team. When filing the bug, set the verbosity to 10 (on Linux, `export AUTOGRAPH_VERBOSITY=10`) and attach the full output.\n",
      "Cause: 'arguments' object has no attribute 'posonlyargs'\n",
      "To silence this warning, decorate the function with @tf.autograph.experimental.do_not_convert\n",
      "WARNING: AutoGraph could not transform <function Model.make_test_function.<locals>.test_function at 0x00000228C42A5828> and will run it as-is.\n",
      "Please report this to the TensorFlow team. When filing the bug, set the verbosity to 10 (on Linux, `export AUTOGRAPH_VERBOSITY=10`) and attach the full output.\n",
      "Cause: 'arguments' object has no attribute 'posonlyargs'\n",
      "To silence this warning, decorate the function with @tf.autograph.experimental.do_not_convert\n",
      "625/625 [==============================] - 5s 7ms/step - loss: 0.4728 - accuracy: 0.7584 - val_loss: 0.4010 - val_accuracy: 0.8205\n",
      "Epoch 2/50\n",
      "625/625 [==============================] - 4s 7ms/step - loss: 0.3551 - accuracy: 0.8409 - val_loss: 0.3853 - val_accuracy: 0.8272\n",
      "Epoch 3/50\n",
      "625/625 [==============================] - 4s 7ms/step - loss: 0.3157 - accuracy: 0.8618 - val_loss: 0.3869 - val_accuracy: 0.8243\n",
      "Epoch 4/50\n",
      "625/625 [==============================] - 4s 7ms/step - loss: 0.2827 - accuracy: 0.8789 - val_loss: 0.3967 - val_accuracy: 0.8271\n",
      "Epoch 5/50\n",
      "625/625 [==============================] - 4s 7ms/step - loss: 0.2524 - accuracy: 0.8952 - val_loss: 0.4199 - val_accuracy: 0.8237\n",
      "Epoch 6/50\n",
      "625/625 [==============================] - 4s 7ms/step - loss: 0.2184 - accuracy: 0.9106 - val_loss: 0.4532 - val_accuracy: 0.8190\n",
      "Epoch 7/50\n",
      "625/625 [==============================] - 4s 7ms/step - loss: 0.1877 - accuracy: 0.9247 - val_loss: 0.4962 - val_accuracy: 0.8125\n",
      "Epoch 8/50\n",
      "625/625 [==============================] - 4s 7ms/step - loss: 0.1544 - accuracy: 0.9402 - val_loss: 0.5482 - val_accuracy: 0.8071\n",
      "Epoch 9/50\n",
      "625/625 [==============================] - 4s 7ms/step - loss: 0.1312 - accuracy: 0.9505 - val_loss: 0.6145 - val_accuracy: 0.8046\n",
      "Epoch 10/50\n",
      "625/625 [==============================] - 4s 7ms/step - loss: 0.1060 - accuracy: 0.9612 - val_loss: 0.6864 - val_accuracy: 0.8010\n",
      "Epoch 11/50\n",
      "625/625 [==============================] - 4s 7ms/step - loss: 0.0884 - accuracy: 0.9696 - val_loss: 0.7476 - val_accuracy: 0.8003\n",
      "Epoch 12/50\n",
      "625/625 [==============================] - 4s 7ms/step - loss: 0.0744 - accuracy: 0.9751 - val_loss: 0.8559 - val_accuracy: 0.8028\n",
      "Epoch 13/50\n",
      "625/625 [==============================] - 4s 7ms/step - loss: 0.0656 - accuracy: 0.9765 - val_loss: 0.8724 - val_accuracy: 0.7949\n",
      "Epoch 14/50\n",
      "625/625 [==============================] - 4s 7ms/step - loss: 0.0562 - accuracy: 0.9806 - val_loss: 0.9858 - val_accuracy: 0.8025\n",
      "Epoch 15/50\n",
      "625/625 [==============================] - 4s 7ms/step - loss: 0.0515 - accuracy: 0.9817 - val_loss: 1.0646 - val_accuracy: 0.7974\n",
      "Epoch 16/50\n",
      "625/625 [==============================] - 4s 7ms/step - loss: 0.0465 - accuracy: 0.9828 - val_loss: 1.1482 - val_accuracy: 0.7948\n",
      "Epoch 17/50\n",
      "625/625 [==============================] - 4s 7ms/step - loss: 0.0405 - accuracy: 0.9844 - val_loss: 1.2869 - val_accuracy: 0.7891\n",
      "Epoch 18/50\n",
      "625/625 [==============================] - 4s 7ms/step - loss: 0.0374 - accuracy: 0.9853 - val_loss: 1.3227 - val_accuracy: 0.7915\n",
      "Epoch 19/50\n",
      "625/625 [==============================] - 4s 7ms/step - loss: 0.0407 - accuracy: 0.9838 - val_loss: 1.2808 - val_accuracy: 0.7970\n",
      "Epoch 20/50\n",
      "625/625 [==============================] - 4s 7ms/step - loss: 0.0414 - accuracy: 0.9834 - val_loss: 1.4445 - val_accuracy: 0.7882\n",
      "Epoch 21/50\n",
      "625/625 [==============================] - 4s 7ms/step - loss: 0.0372 - accuracy: 0.9855 - val_loss: 1.4712 - val_accuracy: 0.7925\n",
      "Epoch 22/50\n",
      "625/625 [==============================] - 4s 7ms/step - loss: 0.0289 - accuracy: 0.9888 - val_loss: 1.6198 - val_accuracy: 0.7910\n",
      "Epoch 23/50\n",
      "625/625 [==============================] - 4s 7ms/step - loss: 0.0283 - accuracy: 0.9883 - val_loss: 1.6567 - val_accuracy: 0.7945\n",
      "Epoch 24/50\n",
      "625/625 [==============================] - 4s 7ms/step - loss: 0.0308 - accuracy: 0.9876 - val_loss: 1.6942 - val_accuracy: 0.7916\n",
      "Epoch 25/50\n",
      "625/625 [==============================] - 4s 7ms/step - loss: 0.0286 - accuracy: 0.9886 - val_loss: 1.7659 - val_accuracy: 0.7924\n",
      "Epoch 26/50\n",
      "625/625 [==============================] - 4s 7ms/step - loss: 0.0347 - accuracy: 0.9862 - val_loss: 1.7370 - val_accuracy: 0.7962\n",
      "Epoch 27/50\n",
      "625/625 [==============================] - 4s 7ms/step - loss: 0.0332 - accuracy: 0.9865 - val_loss: 1.7715 - val_accuracy: 0.7964\n",
      "Epoch 28/50\n",
      "625/625 [==============================] - 5s 7ms/step - loss: 0.0302 - accuracy: 0.9873 - val_loss: 1.8432 - val_accuracy: 0.7997\n",
      "Epoch 29/50\n",
      "625/625 [==============================] - 5s 8ms/step - loss: 0.0286 - accuracy: 0.9884 - val_loss: 1.8884 - val_accuracy: 0.7934\n",
      "Epoch 30/50\n",
      "625/625 [==============================] - 4s 7ms/step - loss: 0.0231 - accuracy: 0.9902 - val_loss: 2.0337 - val_accuracy: 0.7889\n",
      "Epoch 31/50\n",
      "625/625 [==============================] - 4s 7ms/step - loss: 0.0224 - accuracy: 0.9904 - val_loss: 1.9863 - val_accuracy: 0.7912\n",
      "Epoch 32/50\n",
      "625/625 [==============================] - 4s 7ms/step - loss: 0.0281 - accuracy: 0.9889 - val_loss: 1.9340 - val_accuracy: 0.7955\n",
      "Epoch 33/50\n",
      "625/625 [==============================] - 4s 7ms/step - loss: 0.0304 - accuracy: 0.9875 - val_loss: 1.9663 - val_accuracy: 0.7919\n",
      "Epoch 34/50\n",
      "625/625 [==============================] - 4s 7ms/step - loss: 0.0231 - accuracy: 0.9897 - val_loss: 2.0363 - val_accuracy: 0.7933\n",
      "Epoch 35/50\n",
      "625/625 [==============================] - 4s 7ms/step - loss: 0.0196 - accuracy: 0.9915 - val_loss: 2.1057 - val_accuracy: 0.7903\n",
      "Epoch 36/50\n",
      "625/625 [==============================] - 4s 7ms/step - loss: 0.0180 - accuracy: 0.9919 - val_loss: 2.1634 - val_accuracy: 0.7888\n"
     ]
    },
    {
     "name": "stdout",
     "output_type": "stream",
     "text": [
      "Epoch 37/50\n",
      "625/625 [==============================] - 4s 7ms/step - loss: 0.0244 - accuracy: 0.9892 - val_loss: 2.1957 - val_accuracy: 0.7930\n",
      "Epoch 38/50\n",
      "625/625 [==============================] - 4s 7ms/step - loss: 0.0408 - accuracy: 0.9839 - val_loss: 2.1162 - val_accuracy: 0.7934\n",
      "Epoch 39/50\n",
      "625/625 [==============================] - 4s 7ms/step - loss: 0.0280 - accuracy: 0.9884 - val_loss: 2.1224 - val_accuracy: 0.7885\n",
      "Epoch 40/50\n",
      "625/625 [==============================] - 4s 7ms/step - loss: 0.0188 - accuracy: 0.9918 - val_loss: 2.2667 - val_accuracy: 0.7882\n",
      "Epoch 41/50\n",
      "625/625 [==============================] - 4s 7ms/step - loss: 0.0168 - accuracy: 0.9920 - val_loss: 2.2327 - val_accuracy: 0.7906\n",
      "Epoch 42/50\n",
      "625/625 [==============================] - 4s 7ms/step - loss: 0.0171 - accuracy: 0.9920 - val_loss: 2.3051 - val_accuracy: 0.7909\n",
      "Epoch 43/50\n",
      "625/625 [==============================] - 4s 7ms/step - loss: 0.0175 - accuracy: 0.9922 - val_loss: 2.3623 - val_accuracy: 0.7900\n",
      "Epoch 44/50\n",
      "625/625 [==============================] - 4s 7ms/step - loss: 0.0270 - accuracy: 0.9888 - val_loss: 2.2948 - val_accuracy: 0.7913\n",
      "Epoch 45/50\n",
      "625/625 [==============================] - 4s 7ms/step - loss: 0.0331 - accuracy: 0.9861 - val_loss: 2.3364 - val_accuracy: 0.7849\n",
      "Epoch 46/50\n",
      "625/625 [==============================] - 4s 7ms/step - loss: 0.0238 - accuracy: 0.9898 - val_loss: 2.3636 - val_accuracy: 0.7903\n",
      "Epoch 47/50\n",
      "625/625 [==============================] - 4s 7ms/step - loss: 0.0180 - accuracy: 0.9920 - val_loss: 2.3864 - val_accuracy: 0.7861\n",
      "Epoch 48/50\n",
      "625/625 [==============================] - 5s 7ms/step - loss: 0.0181 - accuracy: 0.9916 - val_loss: 2.4020 - val_accuracy: 0.7857\n",
      "Epoch 49/50\n",
      "625/625 [==============================] - 5s 7ms/step - loss: 0.0228 - accuracy: 0.9898 - val_loss: 2.3497 - val_accuracy: 0.7915\n",
      "Epoch 50/50\n",
      "625/625 [==============================] - 5s 7ms/step - loss: 0.0246 - accuracy: 0.9889 - val_loss: 2.4596 - val_accuracy: 0.7945\n"
     ]
    }
   ],
   "source": [
    "import numpy as np\n",
    "\n",
    "import json\n",
    "import tensorflow as tf\n",
    "\n",
    "from tensorflow.keras.preprocessing.text import Tokenizer\n",
    "from tensorflow.keras.preprocessing.sequence import pad_sequences\n",
    "\n",
    "# sarcasm.json\n",
    "!gdown --id 1dRzdJS7-cZS4S5CuUc32MZYSLJGkkxnp\n",
    "\n",
    "vocab_size = 1000\n",
    "embedding_dim = 16\n",
    "max_length = 120\n",
    "trunc_type='post'\n",
    "padding_type='post'\n",
    "oov_tok = \"<OOV>\"\n",
    "training_size = 20000\n",
    "\n",
    "\n",
    "with open(\"./sarcasm.json\", 'r') as f:\n",
    "    datastore = json.load(f)\n",
    "\n",
    "\n",
    "sentences = []\n",
    "labels = []\n",
    "urls = []\n",
    "for item in datastore:\n",
    "    sentences.append(item['headline'])\n",
    "    labels.append(item['is_sarcastic'])\n",
    "\n",
    "training_sentences = sentences[0:training_size]\n",
    "testing_sentences = sentences[training_size:]\n",
    "training_labels = labels[0:training_size]\n",
    "testing_labels = labels[training_size:]\n",
    "\n",
    "tokenizer = Tokenizer(num_words=vocab_size, oov_token=oov_tok)\n",
    "tokenizer.fit_on_texts(training_sentences)\n",
    "\n",
    "word_index = tokenizer.word_index\n",
    "\n",
    "training_sequences = tokenizer.texts_to_sequences(training_sentences)\n",
    "training_padded = pad_sequences(training_sequences, maxlen=max_length, padding=padding_type, truncating=trunc_type)\n",
    "\n",
    "testing_sequences = tokenizer.texts_to_sequences(testing_sentences)\n",
    "testing_padded = pad_sequences(testing_sequences, maxlen=max_length, padding=padding_type, truncating=trunc_type)\n",
    "\n",
    "model = tf.keras.Sequential([\n",
    "    tf.keras.layers.Embedding(vocab_size, embedding_dim, input_length=max_length),\n",
    "    tf.keras.layers.Conv1D(128, 5, activation='relu'),\n",
    "    tf.keras.layers.GlobalMaxPooling1D(),\n",
    "    tf.keras.layers.Dense(24, activation='relu'),\n",
    "    tf.keras.layers.Dense(1, activation='sigmoid')\n",
    "])\n",
    "model.compile(loss='binary_crossentropy',optimizer='adam',metrics=['accuracy'])\n",
    "model.summary()\n",
    "\n",
    "num_epochs = 50\n",
    "\n",
    "training_padded = np.array(training_padded)\n",
    "training_labels = np.array(training_labels)\n",
    "testing_padded = np.array(testing_padded)\n",
    "testing_labels = np.array(testing_labels)\n",
    "\n",
    "history = model.fit(training_padded, training_labels, epochs=num_epochs, validation_data=(testing_padded, testing_labels), verbose=1)\n"
   ]
  },
  {
   "cell_type": "code",
   "execution_count": 2,
   "metadata": {
    "id": "g9DC6dmLF8DC"
   },
   "outputs": [
    {
     "data": {
      "image/png": "[encoded data removed]",
      "text/plain": [
       "<Figure size 432x288 with 1 Axes>"
      ]
     },
     "metadata": {
      "needs_background": "light"
     },
     "output_type": "display_data"
    },
    {
     "data": {
      "image/png": "[encoded data removed]",
      "text/plain": [
       "<Figure size 432x288 with 1 Axes>"
      ]
     },
     "metadata": {
      "needs_background": "light"
     },
     "output_type": "display_data"
    }
   ],
   "source": [
    "import matplotlib.pyplot as plt\n",
    "\n",
    "\n",
    "def plot_graphs(history, string):\n",
    "  plt.plot(history.history[string])\n",
    "  plt.plot(history.history['val_'+string])\n",
    "  plt.xlabel(\"Epochs\")\n",
    "  plt.ylabel(string)\n",
    "  plt.legend([string, 'val_'+string])\n",
    "  plt.show()\n",
    "\n",
    "plot_graphs(history, 'accuracy')\n",
    "plot_graphs(history, 'loss')"
   ]
  },
  {
   "cell_type": "code",
   "execution_count": 3,
   "metadata": {
    "id": "7ZEZIUppGhdi"
   },
   "outputs": [],
   "source": [
    "model.save(\"test_cov.h5\")"
   ]
  },
  {
   "cell_type": "code",
   "execution_count": null,
   "metadata": {},
   "outputs": [],
   "source": []
  }
 ],
 "metadata": {
  "accelerator": "GPU",
  "colab": {
   "collapsed_sections": [],
   "include_colab_link": true,
   "name": "C3_W3_Lab_6_sarcasm_with_1D_convolutional.ipynb",
   "provenance": [],
   "toc_visible": true
  },
  "kernelspec": {
   "display_name": "Python 3",
   "language": "python",
   "name": "python3"
  },
  "language_info": {
   "codemirror_mode": {
    "name": "ipython",
    "version": 3
   },
   "file_extension": ".py",
   "mimetype": "text/x-python",
   "name": "python",
   "nbconvert_exporter": "python",
   "pygments_lexer": "ipython3",
   "version": "3.7.6"
  }
 },
 "nbformat": 4,
 "nbformat_minor": 1
}
