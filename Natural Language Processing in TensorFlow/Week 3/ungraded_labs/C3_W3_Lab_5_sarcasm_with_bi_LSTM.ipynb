{
 "cells": [
  {
   "cell_type": "markdown",
   "metadata": {
    "colab_type": "text",
    "id": "view-in-github"
   },
   "source": [
    "<a href=\"https://colab.research.google.com/github/https-deeplearning-ai/tensorflow-1-public/blob/adding_C3/C3/W3/ungraded_labs/C3_W3_Lab_5_sarcasm_with_bi_LSTM.ipynb\" target=\"_parent\"><img src=\"https://colab.research.google.com/assets/colab-badge.svg\" alt=\"Open In Colab\"/></a>"
   ]
  },
  {
   "cell_type": "code",
   "execution_count": null,
   "metadata": {
    "id": "zX4Kg8DUTKWO"
   },
   "outputs": [],
   "source": [
    "#@title Licensed under the Apache License, Version 2.0 (the \"License\");\n",
    "# you may not use this file except in compliance with the License.\n",
    "# You may obtain a copy of the License at\n",
    "#\n",
    "# https://www.apache.org/licenses/LICENSE-2.0\n",
    "#\n",
    "# Unless required by applicable law or agreed to in writing, software\n",
    "# distributed under the License is distributed on an \"AS IS\" BASIS,\n",
    "# WITHOUT WARRANTIES OR CONDITIONS OF ANY KIND, either express or implied.\n",
    "# See the License for the specific language governing permissions and\n",
    "# limitations under the License."
   ]
  },
  {
   "cell_type": "markdown",
   "metadata": {
    "id": "DAAo7FxNJOv8"
   },
   "source": [
    "**IMPORTANT NOTE:** This notebook is designed to run as a Colab. Click the button on top that says, `Open in Colab`, to run this notebook as a Colab. Running the notebook on your local machine might result in some of the code blocks throwing errors."
   ]
  },
  {
   "cell_type": "markdown",
   "metadata": {
    "id": "o2nwqAkdJOv9"
   },
   "source": [
    "**Note:** This notebook can run using TensorFlow 2.5.0"
   ]
  },
  {
   "cell_type": "code",
   "execution_count": null,
   "metadata": {
    "id": "krV8SxsqJOv9"
   },
   "outputs": [],
   "source": [
    "#!pip install tensorflow==2.5.0"
   ]
  },
  {
   "cell_type": "code",
   "execution_count": 2,
   "metadata": {
    "id": "jGwXGIXvFhXW"
   },
   "outputs": [
    {
     "name": "stderr",
     "output_type": "stream",
     "text": [
      "'gdown' is not recognized as an internal or external command,\n",
      "operable program or batch file.\n"
     ]
    },
    {
     "name": "stdout",
     "output_type": "stream",
     "text": [
      "Model: \"sequential\"\n",
      "_________________________________________________________________\n",
      " Layer (type)                Output Shape              Param #   \n",
      "=================================================================\n",
      " embedding (Embedding)       (None, 120, 16)           16000     \n",
      "                                                                 \n",
      " bidirectional (Bidirectiona  (None, 64)               12544     \n",
      " l)                                                              \n",
      "                                                                 \n",
      " dense (Dense)               (None, 24)                1560      \n",
      "                                                                 \n",
      " dense_1 (Dense)             (None, 1)                 25        \n",
      "                                                                 \n",
      "=================================================================\n",
      "Total params: 30,129\n",
      "Trainable params: 30,129\n",
      "Non-trainable params: 0\n",
      "_________________________________________________________________\n",
      "Epoch 1/50\n",
      "WARNING:tensorflow:AutoGraph could not transform <function Model.make_train_function.<locals>.train_function at 0x0000014937EE5E58> and will run it as-is.\n",
      "Please report this to the TensorFlow team. When filing the bug, set the verbosity to 10 (on Linux, `export AUTOGRAPH_VERBOSITY=10`) and attach the full output.\n",
      "Cause: 'arguments' object has no attribute 'posonlyargs'\n",
      "To silence this warning, decorate the function with @tf.autograph.experimental.do_not_convert\n",
      "WARNING: AutoGraph could not transform <function Model.make_train_function.<locals>.train_function at 0x0000014937EE5E58> and will run it as-is.\n",
      "Please report this to the TensorFlow team. When filing the bug, set the verbosity to 10 (on Linux, `export AUTOGRAPH_VERBOSITY=10`) and attach the full output.\n",
      "Cause: 'arguments' object has no attribute 'posonlyargs'\n",
      "To silence this warning, decorate the function with @tf.autograph.experimental.do_not_convert\n",
      "624/625 [============================>.] - ETA: 0s - loss: 0.4477 - accuracy: 0.7749WARNING:tensorflow:AutoGraph could not transform <function Model.make_test_function.<locals>.test_function at 0x0000014937A181F8> and will run it as-is.\n",
      "Please report this to the TensorFlow team. When filing the bug, set the verbosity to 10 (on Linux, `export AUTOGRAPH_VERBOSITY=10`) and attach the full output.\n",
      "Cause: 'arguments' object has no attribute 'posonlyargs'\n",
      "To silence this warning, decorate the function with @tf.autograph.experimental.do_not_convert\n",
      "WARNING: AutoGraph could not transform <function Model.make_test_function.<locals>.test_function at 0x0000014937A181F8> and will run it as-is.\n",
      "Please report this to the TensorFlow team. When filing the bug, set the verbosity to 10 (on Linux, `export AUTOGRAPH_VERBOSITY=10`) and attach the full output.\n",
      "Cause: 'arguments' object has no attribute 'posonlyargs'\n",
      "To silence this warning, decorate the function with @tf.autograph.experimental.do_not_convert\n",
      "625/625 [==============================] - 22s 32ms/step - loss: 0.4476 - accuracy: 0.7750 - val_loss: 0.4000 - val_accuracy: 0.8137\n",
      "Epoch 2/50\n",
      "625/625 [==============================] - 19s 31ms/step - loss: 0.3555 - accuracy: 0.8353 - val_loss: 0.3857 - val_accuracy: 0.8193\n",
      "Epoch 3/50\n",
      "625/625 [==============================] - 19s 31ms/step - loss: 0.3297 - accuracy: 0.8505 - val_loss: 0.3695 - val_accuracy: 0.8347\n",
      "Epoch 4/50\n",
      "625/625 [==============================] - 20s 32ms/step - loss: 0.3098 - accuracy: 0.8619 - val_loss: 0.3711 - val_accuracy: 0.8308\n",
      "Epoch 5/50\n",
      "625/625 [==============================] - 20s 32ms/step - loss: 0.2985 - accuracy: 0.8691 - val_loss: 0.3807 - val_accuracy: 0.8281\n",
      "Epoch 6/50\n",
      "625/625 [==============================] - 20s 32ms/step - loss: 0.2903 - accuracy: 0.8733 - val_loss: 0.3748 - val_accuracy: 0.8325\n",
      "Epoch 7/50\n",
      "625/625 [==============================] - 20s 33ms/step - loss: 0.2808 - accuracy: 0.8777 - val_loss: 0.4028 - val_accuracy: 0.8256\n",
      "Epoch 8/50\n",
      "625/625 [==============================] - 21s 33ms/step - loss: 0.2751 - accuracy: 0.8783 - val_loss: 0.3921 - val_accuracy: 0.8286\n",
      "Epoch 9/50\n",
      "625/625 [==============================] - 21s 34ms/step - loss: 0.2692 - accuracy: 0.8836 - val_loss: 0.4004 - val_accuracy: 0.8256\n",
      "Epoch 10/50\n",
      "625/625 [==============================] - 23s 36ms/step - loss: 0.2621 - accuracy: 0.8854 - val_loss: 0.3919 - val_accuracy: 0.8289\n",
      "Epoch 11/50\n",
      "625/625 [==============================] - 23s 36ms/step - loss: 0.2567 - accuracy: 0.8899 - val_loss: 0.4142 - val_accuracy: 0.8238\n",
      "Epoch 12/50\n",
      "625/625 [==============================] - 24s 38ms/step - loss: 0.2527 - accuracy: 0.8894 - val_loss: 0.4087 - val_accuracy: 0.8246\n",
      "Epoch 13/50\n",
      "625/625 [==============================] - 25s 39ms/step - loss: 0.2457 - accuracy: 0.8947 - val_loss: 0.4395 - val_accuracy: 0.8261\n",
      "Epoch 14/50\n",
      "625/625 [==============================] - 26s 41ms/step - loss: 0.2366 - accuracy: 0.8985 - val_loss: 0.4337 - val_accuracy: 0.8237\n",
      "Epoch 15/50\n",
      "625/625 [==============================] - 28s 45ms/step - loss: 0.2319 - accuracy: 0.9023 - val_loss: 0.4393 - val_accuracy: 0.8182\n",
      "Epoch 16/50\n",
      "625/625 [==============================] - 27s 44ms/step - loss: 0.2224 - accuracy: 0.9060 - val_loss: 0.4580 - val_accuracy: 0.8226\n",
      "Epoch 17/50\n",
      "625/625 [==============================] - 27s 44ms/step - loss: 0.2150 - accuracy: 0.9085 - val_loss: 0.4992 - val_accuracy: 0.8220\n",
      "Epoch 18/50\n",
      "625/625 [==============================] - 27s 43ms/step - loss: 0.2078 - accuracy: 0.9132 - val_loss: 0.4877 - val_accuracy: 0.8176\n",
      "Epoch 19/50\n",
      "625/625 [==============================] - 28s 44ms/step - loss: 0.2016 - accuracy: 0.9154 - val_loss: 0.5193 - val_accuracy: 0.8129\n",
      "Epoch 20/50\n",
      "625/625 [==============================] - 28s 44ms/step - loss: 0.1931 - accuracy: 0.9194 - val_loss: 0.5442 - val_accuracy: 0.8177\n",
      "Epoch 21/50\n",
      "625/625 [==============================] - 27s 43ms/step - loss: 0.1876 - accuracy: 0.9225 - val_loss: 0.5293 - val_accuracy: 0.8117\n",
      "Epoch 22/50\n",
      "625/625 [==============================] - 27s 43ms/step - loss: 0.1821 - accuracy: 0.9255 - val_loss: 0.5679 - val_accuracy: 0.8134\n",
      "Epoch 23/50\n",
      "625/625 [==============================] - 27s 43ms/step - loss: 0.1761 - accuracy: 0.9279 - val_loss: 0.5809 - val_accuracy: 0.8134\n",
      "Epoch 24/50\n",
      "625/625 [==============================] - 28s 45ms/step - loss: 0.1711 - accuracy: 0.9305 - val_loss: 0.5994 - val_accuracy: 0.8100\n",
      "Epoch 25/50\n",
      "625/625 [==============================] - 27s 43ms/step - loss: 0.1643 - accuracy: 0.9335 - val_loss: 0.6382 - val_accuracy: 0.8114\n",
      "Epoch 26/50\n",
      "625/625 [==============================] - 27s 43ms/step - loss: 0.1559 - accuracy: 0.9376 - val_loss: 0.6468 - val_accuracy: 0.8092\n",
      "Epoch 27/50\n",
      "625/625 [==============================] - 27s 43ms/step - loss: 0.1479 - accuracy: 0.9392 - val_loss: 0.7830 - val_accuracy: 0.8018\n",
      "Epoch 28/50\n",
      "625/625 [==============================] - 28s 45ms/step - loss: 0.1476 - accuracy: 0.9413 - val_loss: 0.7100 - val_accuracy: 0.8071\n",
      "Epoch 29/50\n",
      "625/625 [==============================] - 28s 44ms/step - loss: 0.1399 - accuracy: 0.9446 - val_loss: 0.8003 - val_accuracy: 0.8064\n",
      "Epoch 30/50\n",
      "625/625 [==============================] - 28s 44ms/step - loss: 0.1329 - accuracy: 0.9463 - val_loss: 0.8405 - val_accuracy: 0.8062\n",
      "Epoch 31/50\n",
      "625/625 [==============================] - 27s 44ms/step - loss: 0.1308 - accuracy: 0.9473 - val_loss: 0.8457 - val_accuracy: 0.8049\n",
      "Epoch 32/50\n",
      "625/625 [==============================] - 27s 43ms/step - loss: 0.1210 - accuracy: 0.9524 - val_loss: 0.8830 - val_accuracy: 0.8053\n",
      "Epoch 33/50\n",
      "625/625 [==============================] - 28s 45ms/step - loss: 0.1163 - accuracy: 0.9545 - val_loss: 0.8815 - val_accuracy: 0.8044\n",
      "Epoch 34/50\n",
      "625/625 [==============================] - 28s 45ms/step - loss: 0.1107 - accuracy: 0.9568 - val_loss: 1.0319 - val_accuracy: 0.8034\n",
      "Epoch 35/50\n",
      "625/625 [==============================] - 27s 43ms/step - loss: 0.1122 - accuracy: 0.9553 - val_loss: 1.0238 - val_accuracy: 0.8050\n",
      "Epoch 36/50\n",
      "625/625 [==============================] - 27s 44ms/step - loss: 0.1038 - accuracy: 0.9581 - val_loss: 1.0799 - val_accuracy: 0.8032\n",
      "Epoch 37/50\n"
     ]
    },
    {
     "name": "stdout",
     "output_type": "stream",
     "text": [
      "625/625 [==============================] - 27s 44ms/step - loss: 0.1004 - accuracy: 0.9584 - val_loss: 1.1019 - val_accuracy: 0.8062\n",
      "Epoch 38/50\n",
      "625/625 [==============================] - 26s 42ms/step - loss: 0.0921 - accuracy: 0.9633 - val_loss: 1.1434 - val_accuracy: 0.7970\n",
      "Epoch 39/50\n",
      "625/625 [==============================] - 26s 42ms/step - loss: 0.0892 - accuracy: 0.9646 - val_loss: 1.1862 - val_accuracy: 0.8007\n",
      "Epoch 40/50\n",
      "625/625 [==============================] - 26s 42ms/step - loss: 0.0853 - accuracy: 0.9653 - val_loss: 1.1960 - val_accuracy: 0.7974\n",
      "Epoch 41/50\n",
      "625/625 [==============================] - 26s 42ms/step - loss: 0.0879 - accuracy: 0.9635 - val_loss: 1.1872 - val_accuracy: 0.7946\n",
      "Epoch 42/50\n",
      "625/625 [==============================] - 27s 43ms/step - loss: 0.0839 - accuracy: 0.9657 - val_loss: 1.2037 - val_accuracy: 0.8009\n",
      "Epoch 43/50\n",
      "625/625 [==============================] - 26s 42ms/step - loss: 0.0792 - accuracy: 0.9687 - val_loss: 1.2363 - val_accuracy: 0.8001\n",
      "Epoch 44/50\n",
      "625/625 [==============================] - 26s 42ms/step - loss: 0.0721 - accuracy: 0.9704 - val_loss: 1.3573 - val_accuracy: 0.7927\n",
      "Epoch 45/50\n",
      "625/625 [==============================] - 26s 42ms/step - loss: 0.0696 - accuracy: 0.9726 - val_loss: 1.3333 - val_accuracy: 0.7973\n",
      "Epoch 46/50\n",
      "625/625 [==============================] - 27s 44ms/step - loss: 0.0644 - accuracy: 0.9740 - val_loss: 1.4971 - val_accuracy: 0.7971\n",
      "Epoch 47/50\n",
      "625/625 [==============================] - 26s 42ms/step - loss: 0.0646 - accuracy: 0.9729 - val_loss: 1.4270 - val_accuracy: 0.7910\n",
      "Epoch 48/50\n",
      "625/625 [==============================] - 26s 42ms/step - loss: 0.0653 - accuracy: 0.9737 - val_loss: 1.5111 - val_accuracy: 0.7977\n",
      "Epoch 49/50\n",
      "625/625 [==============================] - 26s 42ms/step - loss: 0.0631 - accuracy: 0.9740 - val_loss: 1.5215 - val_accuracy: 0.7994\n",
      "Epoch 50/50\n",
      "625/625 [==============================] - 27s 43ms/step - loss: 0.0613 - accuracy: 0.9750 - val_loss: 1.5593 - val_accuracy: 0.8007\n"
     ]
    }
   ],
   "source": [
    "import numpy as np\n",
    "\n",
    "import json\n",
    "import tensorflow as tf\n",
    "\n",
    "from tensorflow.keras.preprocessing.text import Tokenizer\n",
    "from tensorflow.keras.preprocessing.sequence import pad_sequences\n",
    "\n",
    "# sarcasm.json\n",
    "!gdown --id 1dRzdJS7-cZS4S5CuUc32MZYSLJGkkxnp\n",
    "\n",
    "vocab_size = 1000\n",
    "embedding_dim = 16\n",
    "max_length = 120\n",
    "trunc_type='post'\n",
    "padding_type='post'\n",
    "oov_tok = \"<OOV>\"\n",
    "training_size = 20000\n",
    "\n",
    "\n",
    "with open(\"./sarcasm.json\", 'r') as f:\n",
    "    datastore = json.load(f)\n",
    "\n",
    "\n",
    "sentences = []\n",
    "labels = []\n",
    "urls = []\n",
    "for item in datastore:\n",
    "    sentences.append(item['headline'])\n",
    "    labels.append(item['is_sarcastic'])\n",
    "\n",
    "training_sentences = sentences[0:training_size]\n",
    "testing_sentences = sentences[training_size:]\n",
    "training_labels = labels[0:training_size]\n",
    "testing_labels = labels[training_size:]\n",
    "\n",
    "tokenizer = Tokenizer(num_words=vocab_size, oov_token=oov_tok)\n",
    "tokenizer.fit_on_texts(training_sentences)\n",
    "\n",
    "word_index = tokenizer.word_index\n",
    "\n",
    "training_sequences = tokenizer.texts_to_sequences(training_sentences)\n",
    "training_padded = pad_sequences(training_sequences, maxlen=max_length, padding=padding_type, truncating=trunc_type)\n",
    "\n",
    "testing_sequences = tokenizer.texts_to_sequences(testing_sentences)\n",
    "testing_padded = pad_sequences(testing_sequences, maxlen=max_length, padding=padding_type, truncating=trunc_type)\n",
    "\n",
    "model = tf.keras.Sequential([\n",
    "    tf.keras.layers.Embedding(vocab_size, embedding_dim, input_length=max_length),\n",
    "    tf.keras.layers.Bidirectional(tf.keras.layers.LSTM(32)),\n",
    "    tf.keras.layers.Dense(24, activation='relu'),\n",
    "    tf.keras.layers.Dense(1, activation='sigmoid')\n",
    "])\n",
    "model.compile(loss='binary_crossentropy',optimizer='adam',metrics=['accuracy'])\n",
    "model.summary()\n",
    "\n",
    "num_epochs = 50\n",
    "training_padded = np.array(training_padded)\n",
    "training_labels = np.array(training_labels)\n",
    "testing_padded = np.array(testing_padded)\n",
    "testing_labels = np.array(testing_labels)\n",
    "history = model.fit(training_padded, training_labels, epochs=num_epochs, validation_data=(testing_padded, testing_labels), verbose=1)\n"
   ]
  },
  {
   "cell_type": "code",
   "execution_count": 3,
   "metadata": {
    "id": "g9DC6dmLF8DC"
   },
   "outputs": [
    {
     "data": {
      "image/png": "[encoded data removed]",
      "text/plain": [
       "<Figure size 432x288 with 1 Axes>"
      ]
     },
     "metadata": {
      "needs_background": "light"
     },
     "output_type": "display_data"
    },
    {
     "data": {
      "image/png": "[encoded data removed]",
      "text/plain": [
       "<Figure size 432x288 with 1 Axes>"
      ]
     },
     "metadata": {
      "needs_background": "light"
     },
     "output_type": "display_data"
    }
   ],
   "source": [
    "import matplotlib.pyplot as plt\n",
    "\n",
    "\n",
    "def plot_graphs(history, string):\n",
    "  plt.plot(history.history[string])\n",
    "  plt.plot(history.history['val_'+string])\n",
    "  plt.xlabel(\"Epochs\")\n",
    "  plt.ylabel(string)\n",
    "  plt.legend([string, 'val_'+string])\n",
    "  plt.show()\n",
    "\n",
    "plot_graphs(history, 'accuracy')\n",
    "plot_graphs(history, 'loss')"
   ]
  },
  {
   "cell_type": "code",
   "execution_count": 4,
   "metadata": {
    "id": "7ZEZIUppGhdi"
   },
   "outputs": [],
   "source": [
    "model.save(\"test.h5\")"
   ]
  },
  {
   "cell_type": "code",
   "execution_count": null,
   "metadata": {},
   "outputs": [],
   "source": []
  }
 ],
 "metadata": {
  "accelerator": "GPU",
  "colab": {
   "collapsed_sections": [],
   "include_colab_link": true,
   "name": "C3_W3_Lab_5_sarcasm_with_bi_LSTM.ipynb",
   "provenance": [],
   "toc_visible": true
  },
  "kernelspec": {
   "display_name": "Python 3",
   "language": "python",
   "name": "python3"
  },
  "language_info": {
   "codemirror_mode": {
    "name": "ipython",
    "version": 3
   },
   "file_extension": ".py",
   "mimetype": "text/x-python",
   "name": "python",
   "nbconvert_exporter": "python",
   "pygments_lexer": "ipython3",
   "version": "3.7.6"
  }
 },
 "nbformat": 4,
 "nbformat_minor": 1
}
