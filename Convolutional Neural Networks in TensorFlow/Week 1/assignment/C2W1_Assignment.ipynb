{
 "cells": [
  {
   "cell_type": "markdown",
   "metadata": {
    "id": "AuW-xg_bTsaF"
   },
   "source": [
    "# Week 1: Using CNN's with the Cats vs Dogs Dataset\n",
    "\n",
    "Welcome to the 1st assignment of the course! This week, you will be using the famous `Cats vs Dogs` dataset to train a model that can classify images of dogs from images of cats. For this, you will create your own Convolutional Neural Network in Tensorflow and leverage Keras' image preprocessing utilities.\n",
    "\n",
    "You will also create some helper functions to move the images around the filesystem so if you are not familiar with the `os` module be sure to take a look a the [docs](https://docs.python.org/3/library/os.html).\n",
    "\n",
    "Let's get started!"
   ]
  },
  {
   "cell_type": "code",
   "execution_count": 1,
   "metadata": {
    "id": "dn-6c02VmqiN"
   },
   "outputs": [],
   "source": [
    "import os\n",
    "import zipfile\n",
    "import random\n",
    "import shutil\n",
    "import tensorflow as tf\n",
    "from tensorflow.keras.preprocessing.image import ImageDataGenerator\n",
    "from shutil import copyfile\n",
    "import matplotlib.pyplot as plt"
   ]
  },
  {
   "cell_type": "markdown",
   "metadata": {
    "id": "bLTQd84RUs1j"
   },
   "source": [
    "Download the dataset from its original source by running the cell below. \n",
    "\n",
    "Note that the `zip` file that contains the images is unzipped under the `/tmp` directory."
   ]
  },
  {
   "cell_type": "code",
   "execution_count": null,
   "metadata": {
    "id": "3sd9dQWa23aj",
    "lines_to_next_cell": 2
   },
   "outputs": [],
   "source": [
    "# If the URL doesn't work, visit https://www.microsoft.com/en-us/download/confirmation.aspx?id=54765\n",
    "# And right click on the 'Download Manually' link to get a new URL to the dataset\n",
    "\n",
    "# Note: This is a very large dataset and will take some time to download\n",
    "\n",
    "!wget --no-check-certificate \\\n",
    "    \"https://download.microsoft.com/download/3/E/1/3E1C3F21-ECDB-4869-8368-6DEBA77B919F/kagglecatsanddogs_3367a.zip\" \\\n",
    "    -O \"/tmp/cats-and-dogs.zip\"\n",
    "\n",
    "local_zip = '/tmp/cats-and-dogs.zip'\n",
    "zip_ref   = zipfile.ZipFile(local_zip, 'r')\n",
    "zip_ref.extractall('/tmp')\n",
    "zip_ref.close()"
   ]
  },
  {
   "cell_type": "code",
   "execution_count": null,
   "metadata": {},
   "outputs": [],
   "source": [
    "local_zip = './tmp/cats-and-dogs.zip'\n",
    "zip_ref   = zipfile.ZipFile(local_zip, 'r')\n",
    "zip_ref.extractall('./tmp')\n",
    "zip_ref.close()"
   ]
  },
  {
   "cell_type": "markdown",
   "metadata": {
    "id": "e_HsUV9WVJHL"
   },
   "source": [
    "Now the images are stored within the `/tmp/PetImages` directory. There is a subdirectory for each class, so one for dogs and one for cats."
   ]
  },
  {
   "cell_type": "code",
   "execution_count": 2,
   "metadata": {
    "id": "DM851ZmN28J3"
   },
   "outputs": [
    {
     "name": "stdout",
     "output_type": "stream",
     "text": [
      "There are 12501 images of dogs.\n",
      "There are 12501 images of cats.\n"
     ]
    }
   ],
   "source": [
    "source_path = '/tmp/PetImages'\n",
    "\n",
    "source_path_dogs = os.path.join(source_path, 'Dog')\n",
    "source_path_cats = os.path.join(source_path, 'Cat')\n",
    "\n",
    "\n",
    "# os.listdir returns a list containing all files under the given path\n",
    "print(f\"There are {len(os.listdir(source_path_dogs))} images of dogs.\")\n",
    "print(f\"There are {len(os.listdir(source_path_cats))} images of cats.\")"
   ]
  },
  {
   "cell_type": "markdown",
   "metadata": {
    "id": "G7dI86rmRGmC"
   },
   "source": [
    "**Expected Output:**\n",
    "\n",
    "```\n",
    "There are 12501 images of dogs.\n",
    "There are 12501 images of cats.\n",
    "```"
   ]
  },
  {
   "cell_type": "markdown",
   "metadata": {
    "id": "iFbMliudNIjW"
   },
   "source": [
    "You will need a directory for cats-v-dogs, and subdirectories for training\n",
    "and testing. These in turn will need subdirectories for 'cats' and 'dogs'. To accomplish this, complete the `create_train_test_dirs` below:"
   ]
  },
  {
   "cell_type": "code",
   "execution_count": 3,
   "metadata": {
    "cellView": "code",
    "id": "F-QkLjxpmyK2"
   },
   "outputs": [],
   "source": [
    "# Define root directory\n",
    "root_dir = './tmp/cats-v-dogs'\n",
    "\n",
    "# Empty directory to prevent FileExistsError is the function is run several times\n",
    "if os.path.exists(root_dir):\n",
    "  shutil.rmtree(root_dir)\n",
    "\n",
    "# GRADED FUNCTION: create_train_test_dirs\n",
    "def create_train_test_dirs(root_path):\n",
    "  ### START CODE HERE\n",
    "\n",
    "    # HINT:\n",
    "    # Use os.makedirs to create your directories with intermediate subdirectories\n",
    "    # Don't hardcode the paths. Use os.path.join to append the new directories to the root_path parameter\n",
    "    os.mkdir(root_path)\n",
    "    os.mkdir(os.path.join(root_path, \"training\"))\n",
    "    os.mkdir(os.path.join(root_path, \"testing\"))\n",
    "    os.mkdir(os.path.join(root_path, \"training\", 'dogs'))\n",
    "    os.mkdir(os.path.join(root_path, \"training\", 'cats'))\n",
    "    os.mkdir(os.path.join(root_path, \"testing\",'dogs'))\n",
    "    os.mkdir(os.path.join(root_path, \"testing\",'cats'))\n",
    "    pass\n",
    "\n",
    "  ### END CODE HERE\n",
    "\n",
    "  \n",
    "try:\n",
    "    create_train_test_dirs(root_path=root_dir)\n",
    "except FileExistsError:\n",
    "    print(\"You should not be seeing this since the upper directory is removed beforehand\")"
   ]
  },
  {
   "cell_type": "code",
   "execution_count": 4,
   "metadata": {
    "id": "5dhtL344OK00"
   },
   "outputs": [
    {
     "name": "stdout",
     "output_type": "stream",
     "text": [
      "./tmp/cats-v-dogs\\testing\n",
      "./tmp/cats-v-dogs\\training\n",
      "./tmp/cats-v-dogs\\testing\\cats\n",
      "./tmp/cats-v-dogs\\testing\\dogs\n",
      "./tmp/cats-v-dogs\\training\\cats\n",
      "./tmp/cats-v-dogs\\training\\dogs\n"
     ]
    }
   ],
   "source": [
    "# Test your create_train_test_dirs function\n",
    "\n",
    "for rootdir, dirs, files in os.walk(root_dir):\n",
    "    for subdir in dirs:\n",
    "        print(os.path.join(rootdir, subdir))"
   ]
  },
  {
   "cell_type": "markdown",
   "metadata": {
    "id": "D7A0RK3IQsvg"
   },
   "source": [
    "**Expected Output (directory order might vary):**\n",
    "\n",
    "``` txt\n",
    "/tmp/cats-v-dogs/training\n",
    "/tmp/cats-v-dogs/testing\n",
    "/tmp/cats-v-dogs/training/cats\n",
    "/tmp/cats-v-dogs/training/dogs\n",
    "/tmp/cats-v-dogs/testing/cats\n",
    "/tmp/cats-v-dogs/testing/dogs\n",
    "\n",
    "```"
   ]
  },
  {
   "cell_type": "markdown",
   "metadata": {
    "id": "R93T7HdE5txZ"
   },
   "source": [
    "Code the `split_data` function which takes in the following arguments:\n",
    "- SOURCE: directory containing the files\n",
    "\n",
    "- TRAINING: directory that a portion of the files will be copied to (will be used for training)\n",
    "- TESTING: directory that a portion of the files will be copied to (will be used for testing)\n",
    "- SPLIT SIZE: to determine the portion\n",
    "\n",
    "The files should be randomized, so that the training set is a random sample of the files, and the test set is made up of the remaining files.\n",
    "\n",
    "For example, if `SOURCE` is `PetImages/Cat`, and `SPLIT` SIZE is .9 then 90% of the images in `PetImages/Cat` will be copied to the `TRAINING` dir\n",
    "and 10% of the images will be copied to the `TESTING` dir.\n",
    "\n",
    "All images should be checked before the copy, so if they have a zero file length, they will be omitted from the copying process. If this is the case then your function should print out a message such as `\"filename is zero length, so ignoring.\"`. **You should perform this check before the split so that only non-zero images are considered when doing the actual split.**\n",
    "\n",
    "\n",
    "Hints:\n",
    "\n",
    "- `os.listdir(DIRECTORY)` returns a list with the contents of that directory.\n",
    "\n",
    "- `os.path.getsize(PATH)` returns the size of the file\n",
    "\n",
    "- `copyfile(source, destination)` copies a file from source to destination\n",
    "\n",
    "- `random.sample(list, len(list))` shuffles a list"
   ]
  },
  {
   "cell_type": "code",
   "execution_count": 5,
   "metadata": {},
   "outputs": [
    {
     "name": "stdout",
     "output_type": "stream",
     "text": [
      "./tmp/PetImages/Cat/0.jpg\n"
     ]
    },
    {
     "data": {
      "text/plain": [
       "'./tmp/cats-v-dogs/training/0.jpg'"
      ]
     },
     "execution_count": 5,
     "metadata": {},
     "output_type": "execute_result"
    }
   ],
   "source": [
    "SOURCE = \"./tmp/PetImages/Cat/\"\n",
    "files = os.listdir(SOURCE)\n",
    "file = files[0]\n",
    "fl = os.path.join(SOURCE, file)\n",
    "print(fl)\n",
    "TRAINING_DIR = os.path.join(\"./tmp/cats-v-dogs/training/\", file)\n",
    "copyfile(fl, TRAINING_DIR)"
   ]
  },
  {
   "cell_type": "code",
   "execution_count": 6,
   "metadata": {
    "cellView": "code",
    "id": "zvSODo0f9LaU"
   },
   "outputs": [],
   "source": [
    "# GRADED FUNCTION: split_data\n",
    "def split_data(SOURCE, TRAINING, TESTING, SPLIT_SIZE):\n",
    "\n",
    "    ### START CODE HERE\n",
    "    # Get list of files in source directory\n",
    "    files = os.listdir(SOURCE)\n",
    "    \n",
    "    # Remove files of zero size\n",
    "    rm_files = []\n",
    "    for file in files:\n",
    "        if os.path.getsize(os.path.join(SOURCE, file))==0:\n",
    "            print(f'{file} is zero length, so ignoring.')\n",
    "            rm_files.append(file)\n",
    "    \n",
    "    for file in rm_files:\n",
    "        files.remove(file)\n",
    "    \n",
    "    # Split them into 90 and 10%\n",
    "    files_train = random.sample(files, int(len(files)*SPLIT_SIZE))\n",
    "    files_test = [x for x in files if x not in files_train]\n",
    "    \n",
    "    # Move files:\n",
    "    for file in files_train:\n",
    "        copyfile(os.path.join(SOURCE, file), os.path.join(TRAINING, file))\n",
    "    for file in files_test:\n",
    "        copyfile(os.path.join(SOURCE, file), os.path.join(TESTING, file))\n",
    "    \n",
    "\n",
    "    ### END CODE HERE\n"
   ]
  },
  {
   "cell_type": "code",
   "execution_count": 7,
   "metadata": {
    "id": "FlIdoUeX9S-9"
   },
   "outputs": [
    {
     "name": "stdout",
     "output_type": "stream",
     "text": [
      "666.jpg is zero length, so ignoring.\n",
      "11702.jpg is zero length, so ignoring.\n",
      "\n",
      "\n",
      "There are 11250 images of cats for training\n",
      "There are 11250 images of dogs for training\n",
      "There are 1250 images of cats for testing\n",
      "There are 1250 images of dogs for testing\n"
     ]
    }
   ],
   "source": [
    "# Test your split_data function\n",
    "\n",
    "# Define paths\n",
    "CAT_SOURCE_DIR = \"./tmp/PetImages/Cat/\"\n",
    "DOG_SOURCE_DIR = \"./tmp/PetImages/Dog/\"\n",
    "\n",
    "TRAINING_DIR = \"./tmp/cats-v-dogs/training/\"\n",
    "TESTING_DIR = \"./tmp/cats-v-dogs/testing/\"\n",
    "\n",
    "TRAINING_CATS_DIR = os.path.join(TRAINING_DIR, \"cats/\")\n",
    "TESTING_CATS_DIR = os.path.join(TESTING_DIR, \"cats/\")\n",
    "\n",
    "TRAINING_DOGS_DIR = os.path.join(TRAINING_DIR, \"dogs/\")\n",
    "TESTING_DOGS_DIR = os.path.join(TESTING_DIR, \"dogs/\")\n",
    "\n",
    "# Empty directories in case you run this cell multiple times\n",
    "if len(os.listdir(TRAINING_CATS_DIR)) > 0:\n",
    "  for file in os.scandir(TRAINING_CATS_DIR):\n",
    "    os.remove(file.path)\n",
    "if len(os.listdir(TRAINING_DOGS_DIR)) > 0:\n",
    "  for file in os.scandir(TRAINING_DOGS_DIR):\n",
    "    os.remove(file.path)\n",
    "if len(os.listdir(TESTING_CATS_DIR)) > 0:\n",
    "  for file in os.scandir(TESTING_CATS_DIR):\n",
    "    os.remove(file.path)\n",
    "if len(os.listdir(TESTING_DOGS_DIR)) > 0:\n",
    "  for file in os.scandir(TESTING_DOGS_DIR):\n",
    "    os.remove(file.path)\n",
    "\n",
    "# Define proportion of images used for training\n",
    "split_size = .9\n",
    "\n",
    "# Run the function\n",
    "# NOTE: Messages about zero length images should be printed out\n",
    "split_data(CAT_SOURCE_DIR, TRAINING_CATS_DIR, TESTING_CATS_DIR, split_size)\n",
    "split_data(DOG_SOURCE_DIR, TRAINING_DOGS_DIR, TESTING_DOGS_DIR, split_size)\n",
    "\n",
    "# Check that the number of images matches the expected output\n",
    "print(f\"\\n\\nThere are {len(os.listdir(TRAINING_CATS_DIR))} images of cats for training\")\n",
    "print(f\"There are {len(os.listdir(TRAINING_DOGS_DIR))} images of dogs for training\")\n",
    "print(f\"There are {len(os.listdir(TESTING_CATS_DIR))} images of cats for testing\")\n",
    "print(f\"There are {len(os.listdir(TESTING_DOGS_DIR))} images of dogs for testing\")"
   ]
  },
  {
   "cell_type": "markdown",
   "metadata": {
    "id": "hvskJNOFVSaz"
   },
   "source": [
    "**Expected Output:**\n",
    "\n",
    "```\n",
    "666.jpg is zero length, so ignoring.\n",
    "11702.jpg is zero length, so ignoring.\n",
    "```\n",
    "\n",
    "```\n",
    "There are 11250 images of cats for training\n",
    "There are 11250 images of dogs for training\n",
    "There are 1250 images of cats for testing\n",
    "There are 1250 images of dogs for testing\n",
    "```"
   ]
  },
  {
   "cell_type": "markdown",
   "metadata": {
    "id": "Zil4QmOD_mXF"
   },
   "source": [
    "Now that you have successfully organized the data in a way that can be easily fed to Keras' `ImageDataGenerator`, it is time for you to code the generators that will yield batches of images, both for training and validation. For this, complete the `train_val_generators` function below.\n",
    "\n",
    "Something important to note is that the images in this dataset come in a variety of resolutions. Luckily, the `flow_from_directory` method allows you to standarize this by defining a tuple called `target_size` that will be used to convert each image to this target resolution. **For this exercise, use a `target_size` of (150, 150)**.\n",
    "\n",
    "**Note:** So far, you have seen the term `testing` being used a lot for referring to a subset of images within the dataset. In this exercise, all of the `testing` data is actually being used as `validation` data. This is not very important within the context of the task at hand but it is worth mentioning to avoid confusion."
   ]
  },
  {
   "cell_type": "code",
   "execution_count": 8,
   "metadata": {
    "cellView": "code",
    "id": "fQrZfVgz4j2g"
   },
   "outputs": [],
   "source": [
    "# GRADED FUNCTION: train_val_generators\n",
    "def train_val_generators(TRAINING_DIR, VALIDATION_DIR):\n",
    "  ### START CODE HERE\n",
    "\n",
    "  # Instantiate the ImageDataGenerator class (don't forget to set the rescale argument)\n",
    "  train_datagen = ImageDataGenerator(rescale=1/255)\n",
    "\n",
    "  # Pass in the appropiate arguments to the flow_from_directory method\n",
    "  train_generator = train_datagen.flow_from_directory(directory=TRAINING_DIR,\n",
    "                                                      batch_size=50,\n",
    "                                                      class_mode='binary',\n",
    "                                                      target_size=(150, 150))\n",
    "\n",
    "  # Instantiate the ImageDataGenerator class (don't forget to set the rescale argument)\n",
    "  validation_datagen = ImageDataGenerator(rescale=1/255)\n",
    "\n",
    "  # Pass in the appropiate arguments to the flow_from_directory method\n",
    "  validation_generator = validation_datagen.flow_from_directory(directory=VALIDATION_DIR,\n",
    "                                                                batch_size=50,\n",
    "                                                                class_mode='binary',\n",
    "                                                                target_size=(150, 150))\n",
    "  ### END CODE HERE\n",
    "  return train_generator, validation_generator\n"
   ]
  },
  {
   "cell_type": "code",
   "execution_count": 9,
   "metadata": {
    "id": "qM7FxrjGiobD"
   },
   "outputs": [
    {
     "name": "stdout",
     "output_type": "stream",
     "text": [
      "Found 22498 images belonging to 2 classes.\n",
      "Found 2500 images belonging to 2 classes.\n"
     ]
    }
   ],
   "source": [
    "# Test your generators\n",
    "train_generator, validation_generator = train_val_generators(TRAINING_DIR, TESTING_DIR)"
   ]
  },
  {
   "cell_type": "markdown",
   "metadata": {
    "id": "tiPNmSfZjHwJ"
   },
   "source": [
    "**Expected Output:**\n",
    "\n",
    "```\n",
    "Found 22498 images belonging to 2 classes.\n",
    "Found 2500 images belonging to 2 classes.\n",
    "```\n"
   ]
  },
  {
   "cell_type": "markdown",
   "metadata": {
    "id": "TI3oEmyQCZoO"
   },
   "source": [
    "One last step before training is to define the architecture of the model that will be trained.\n",
    "\n",
    "Complete the `create_model` function below which should return a Keras' `Sequential` model.\n",
    "\n",
    "Aside from defining the architecture of the model, you should also compile it so make sure to use a `loss` function that is compatible with the `class_mode` you defined in the previous exercise, which should also be compatible with the output of your network. You can tell if they aren't compatible if you get an error during training.\n",
    "\n",
    "**Note that you should use at least 3 convolution layers to achieve the desired performance.**"
   ]
  },
  {
   "cell_type": "code",
   "execution_count": 10,
   "metadata": {
    "cellView": "code",
    "id": "oDPK8tUB_O9e",
    "lines_to_next_cell": 2
   },
   "outputs": [],
   "source": [
    "# GRADED FUNCTION: create_model\n",
    "def create_model():\n",
    "  # DEFINE A KERAS MODEL TO CLASSIFY CATS V DOGS\n",
    "  # USE AT LEAST 3 CONVOLUTION LAYERS\n",
    "\n",
    "  ### START CODE HERE\n",
    "\n",
    "  model = tf.keras.models.Sequential([\n",
    "      tf.keras.layers.Conv2D(16, (3,3), activation='relu', input_shape=(150, 150, 3)),\n",
    "      tf.keras.layers.MaxPooling2D(2,2),\n",
    "      tf.keras.layers.Conv2D(32, (3,3), activation='relu'),\n",
    "      tf.keras.layers.MaxPooling2D(2,2), \n",
    "      tf.keras.layers.Conv2D(64, (3,3), activation='relu'), \n",
    "      tf.keras.layers.MaxPooling2D(2,2),\n",
    "      # Flatten the results to feed into a DNN\n",
    "      tf.keras.layers.Flatten(), \n",
    "      # 512 neuron hidden layer\n",
    "      tf.keras.layers.Dense(512, activation='relu'), \n",
    "      # Only 1 output neuron. It will contain a value from 0-1 where 0 for 1 class ('cats') and 1 for the other ('dogs')\n",
    "      tf.keras.layers.Dense(1, activation='sigmoid')\n",
    "  ])\n",
    "\n",
    "  from tensorflow.keras.optimizers import RMSprop\n",
    "  model.compile(optimizer=RMSprop(learning_rate=0.001),\n",
    "                loss='binary_crossentropy',\n",
    "                metrics=['accuracy']) \n",
    "    \n",
    "  ### END CODE HERE\n",
    "\n",
    "  return model\n"
   ]
  },
  {
   "cell_type": "markdown",
   "metadata": {
    "id": "SMFNJZmTCZv6"
   },
   "source": [
    "Now it is time to train your model!\n",
    "\n",
    "**Note:** You can ignore the `UserWarning: Possibly corrupt EXIF data.` warnings."
   ]
  },
  {
   "cell_type": "code",
   "execution_count": 11,
   "metadata": {
    "id": "5qE1G6JB4fMn"
   },
   "outputs": [
    {
     "name": "stdout",
     "output_type": "stream",
     "text": [
      "Epoch 1/15\n",
      "WARNING:tensorflow:AutoGraph could not transform <function Model.make_train_function.<locals>.train_function at 0x000001A04FF590D8> and will run it as-is.\n",
      "Please report this to the TensorFlow team. When filing the bug, set the verbosity to 10 (on Linux, `export AUTOGRAPH_VERBOSITY=10`) and attach the full output.\n",
      "Cause: 'arguments' object has no attribute 'posonlyargs'\n",
      "To silence this warning, decorate the function with @tf.autograph.experimental.do_not_convert\n",
      "WARNING: AutoGraph could not transform <function Model.make_train_function.<locals>.train_function at 0x000001A04FF590D8> and will run it as-is.\n",
      "Please report this to the TensorFlow team. When filing the bug, set the verbosity to 10 (on Linux, `export AUTOGRAPH_VERBOSITY=10`) and attach the full output.\n",
      "Cause: 'arguments' object has no attribute 'posonlyargs'\n",
      "To silence this warning, decorate the function with @tf.autograph.experimental.do_not_convert\n",
      "225/225 [==============================] - ETA: 0s - loss: 0.7023 - accuracy: 0.6108WARNING:tensorflow:AutoGraph could not transform <function Model.make_test_function.<locals>.test_function at 0x000001A04F7FE8B8> and will run it as-is.\n",
      "Please report this to the TensorFlow team. When filing the bug, set the verbosity to 10 (on Linux, `export AUTOGRAPH_VERBOSITY=10`) and attach the full output.\n",
      "Cause: 'arguments' object has no attribute 'posonlyargs'\n",
      "To silence this warning, decorate the function with @tf.autograph.experimental.do_not_convert\n",
      "WARNING: AutoGraph could not transform <function Model.make_test_function.<locals>.test_function at 0x000001A04F7FE8B8> and will run it as-is.\n",
      "Please report this to the TensorFlow team. When filing the bug, set the verbosity to 10 (on Linux, `export AUTOGRAPH_VERBOSITY=10`) and attach the full output.\n",
      "Cause: 'arguments' object has no attribute 'posonlyargs'\n",
      "To silence this warning, decorate the function with @tf.autograph.experimental.do_not_convert\n",
      "225/225 [==============================] - 126s 552ms/step - loss: 0.7023 - accuracy: 0.6108 - val_loss: 0.5907 - val_accuracy: 0.6672\n",
      "Epoch 2/15\n",
      "149/225 [==================>...........] - ETA: 39s - loss: 0.5755 - accuracy: 0.6998"
     ]
    },
    {
     "name": "stderr",
     "output_type": "stream",
     "text": [
      "C:\\Users\\sidhu\\AppData\\Local\\Continuum\\anaconda3\\envs\\PythonCPU\\lib\\site-packages\\PIL\\TiffImagePlugin.py:770: UserWarning: Possibly corrupt EXIF data.  Expecting to read 32 bytes but only got 0. Skipping tag 270\n",
      "  \" Skipping tag %s\" % (size, len(data), tag)\n",
      "C:\\Users\\sidhu\\AppData\\Local\\Continuum\\anaconda3\\envs\\PythonCPU\\lib\\site-packages\\PIL\\TiffImagePlugin.py:770: UserWarning: Possibly corrupt EXIF data.  Expecting to read 5 bytes but only got 0. Skipping tag 271\n",
      "  \" Skipping tag %s\" % (size, len(data), tag)\n",
      "C:\\Users\\sidhu\\AppData\\Local\\Continuum\\anaconda3\\envs\\PythonCPU\\lib\\site-packages\\PIL\\TiffImagePlugin.py:770: UserWarning: Possibly corrupt EXIF data.  Expecting to read 8 bytes but only got 0. Skipping tag 272\n",
      "  \" Skipping tag %s\" % (size, len(data), tag)\n",
      "C:\\Users\\sidhu\\AppData\\Local\\Continuum\\anaconda3\\envs\\PythonCPU\\lib\\site-packages\\PIL\\TiffImagePlugin.py:770: UserWarning: Possibly corrupt EXIF data.  Expecting to read 8 bytes but only got 0. Skipping tag 282\n",
      "  \" Skipping tag %s\" % (size, len(data), tag)\n",
      "C:\\Users\\sidhu\\AppData\\Local\\Continuum\\anaconda3\\envs\\PythonCPU\\lib\\site-packages\\PIL\\TiffImagePlugin.py:770: UserWarning: Possibly corrupt EXIF data.  Expecting to read 8 bytes but only got 0. Skipping tag 283\n",
      "  \" Skipping tag %s\" % (size, len(data), tag)\n",
      "C:\\Users\\sidhu\\AppData\\Local\\Continuum\\anaconda3\\envs\\PythonCPU\\lib\\site-packages\\PIL\\TiffImagePlugin.py:770: UserWarning: Possibly corrupt EXIF data.  Expecting to read 20 bytes but only got 0. Skipping tag 306\n",
      "  \" Skipping tag %s\" % (size, len(data), tag)\n",
      "C:\\Users\\sidhu\\AppData\\Local\\Continuum\\anaconda3\\envs\\PythonCPU\\lib\\site-packages\\PIL\\TiffImagePlugin.py:770: UserWarning: Possibly corrupt EXIF data.  Expecting to read 48 bytes but only got 0. Skipping tag 532\n",
      "  \" Skipping tag %s\" % (size, len(data), tag)\n",
      "C:\\Users\\sidhu\\AppData\\Local\\Continuum\\anaconda3\\envs\\PythonCPU\\lib\\site-packages\\PIL\\TiffImagePlugin.py:788: UserWarning: Corrupt EXIF data.  Expecting to read 2 bytes but only got 0. \n",
      "  warnings.warn(str(msg))\n"
     ]
    },
    {
     "name": "stdout",
     "output_type": "stream",
     "text": [
      "225/225 [==============================] - 123s 545ms/step - loss: 0.5628 - accuracy: 0.7070 - val_loss: 0.5196 - val_accuracy: 0.7416\n",
      "Epoch 3/15\n",
      "225/225 [==============================] - 135s 599ms/step - loss: 0.5004 - accuracy: 0.7588 - val_loss: 0.4475 - val_accuracy: 0.7920\n",
      "Epoch 4/15\n",
      "225/225 [==============================] - 140s 622ms/step - loss: 0.4529 - accuracy: 0.7889 - val_loss: 0.4622 - val_accuracy: 0.7864\n",
      "Epoch 5/15\n",
      "225/225 [==============================] - 148s 659ms/step - loss: 0.4159 - accuracy: 0.8074 - val_loss: 0.4430 - val_accuracy: 0.8072\n",
      "Epoch 6/15\n",
      "225/225 [==============================] - 142s 629ms/step - loss: 0.3778 - accuracy: 0.8310 - val_loss: 0.4233 - val_accuracy: 0.8048\n",
      "Epoch 7/15\n",
      "225/225 [==============================] - 128s 570ms/step - loss: 0.3480 - accuracy: 0.8452 - val_loss: 0.4543 - val_accuracy: 0.8008\n",
      "Epoch 8/15\n",
      "225/225 [==============================] - 122s 542ms/step - loss: 0.3277 - accuracy: 0.8606 - val_loss: 0.4022 - val_accuracy: 0.8088\n",
      "Epoch 9/15\n",
      "225/225 [==============================] - 124s 553ms/step - loss: 0.2867 - accuracy: 0.8806 - val_loss: 0.4818 - val_accuracy: 0.7936\n",
      "Epoch 10/15\n",
      "225/225 [==============================] - 137s 608ms/step - loss: 0.2583 - accuracy: 0.8955 - val_loss: 0.4049 - val_accuracy: 0.8368\n",
      "Epoch 11/15\n",
      "225/225 [==============================] - 125s 555ms/step - loss: 0.2314 - accuracy: 0.9081 - val_loss: 0.4943 - val_accuracy: 0.8040\n",
      "Epoch 12/15\n",
      "225/225 [==============================] - 128s 570ms/step - loss: 0.1992 - accuracy: 0.9224 - val_loss: 0.5870 - val_accuracy: 0.8048\n",
      "Epoch 13/15\n",
      "225/225 [==============================] - 125s 557ms/step - loss: 0.1734 - accuracy: 0.9337 - val_loss: 0.4957 - val_accuracy: 0.8016\n",
      "Epoch 14/15\n",
      "225/225 [==============================] - 127s 565ms/step - loss: 0.1559 - accuracy: 0.9430 - val_loss: 0.6099 - val_accuracy: 0.8264\n",
      "Epoch 15/15\n",
      "225/225 [==============================] - 128s 570ms/step - loss: 0.1333 - accuracy: 0.9522 - val_loss: 0.5067 - val_accuracy: 0.8232\n"
     ]
    }
   ],
   "source": [
    "# Get the untrained model\n",
    "model = create_model()\n",
    "\n",
    "# Train the model\n",
    "# Note that this may take some time.\n",
    "history = model.fit(train_generator,\n",
    "                    steps_per_epoch=225,\n",
    "                    epochs=15,\n",
    "                    verbose=1,\n",
    "                    validation_data=validation_generator,\n",
    "                   validation_steps=25)"
   ]
  },
  {
   "cell_type": "markdown",
   "metadata": {
    "id": "VGsaDMc-GMd4"
   },
   "source": [
    "Once training has finished, you can run the following cell to check the training and validation accuracy achieved at the end of each epoch.\n",
    "\n",
    "**To pass this assignment, your model should achieve a training accuracy of at least 95% and a validation accuracy of at least 80%**. If your model didn't achieve these thresholds, try training again with a different model architecture and remember to use at least 3 convolutional layers."
   ]
  },
  {
   "cell_type": "code",
   "execution_count": 12,
   "metadata": {
    "id": "MWZrJN4-65RC"
   },
   "outputs": [
    {
     "data": {
      "image/png": "[encoded data removed]",
      "text/plain": [
       "<Figure size 432x288 with 1 Axes>"
      ]
     },
     "metadata": {
      "needs_background": "light"
     },
     "output_type": "display_data"
    },
    {
     "name": "stdout",
     "output_type": "stream",
     "text": [
      "\n"
     ]
    },
    {
     "data": {
      "image/png": "[encoded data removed]",
      "text/plain": [
       "<Figure size 432x288 with 1 Axes>"
      ]
     },
     "metadata": {
      "needs_background": "light"
     },
     "output_type": "display_data"
    }
   ],
   "source": [
    "#-----------------------------------------------------------\n",
    "# Retrieve a list of list results on training and test data\n",
    "# sets for each training epoch\n",
    "#-----------------------------------------------------------\n",
    "acc=history.history['accuracy']\n",
    "val_acc=history.history['val_accuracy']\n",
    "loss=history.history['loss']\n",
    "val_loss=history.history['val_loss']\n",
    "\n",
    "epochs=range(len(acc)) # Get number of epochs\n",
    "\n",
    "#------------------------------------------------\n",
    "# Plot training and validation accuracy per epoch\n",
    "#------------------------------------------------\n",
    "plt.plot(epochs, acc, 'r', \"Training Accuracy\")\n",
    "plt.plot(epochs, val_acc, 'b', \"Validation Accuracy\")\n",
    "plt.title('Training and validation accuracy')\n",
    "plt.show()\n",
    "print(\"\")\n",
    "\n",
    "#------------------------------------------------\n",
    "# Plot training and validation loss per epoch\n",
    "#------------------------------------------------\n",
    "plt.plot(epochs, loss, 'r', \"Training Loss\")\n",
    "plt.plot(epochs, val_loss, 'b', \"Validation Loss\")\n",
    "plt.show()"
   ]
  },
  {
   "cell_type": "markdown",
   "metadata": {
    "id": "NYIaqsN2pav6"
   },
   "source": [
    "You will probably encounter that the model is overfitting, which means that it is doing a great job at classifying the images in the training set but struggles with new data. This is perfectly fine and you will learn how to mitigate this issue in the upcoming week.\n",
    "\n",
    "Before downloading this notebook and closing the assignment, be sure to also download the `history.pkl` file which contains the information of the training history of your model. You can download this file by running the cell below:"
   ]
  },
  {
   "cell_type": "code",
   "execution_count": 13,
   "metadata": {
    "id": "yWcrc9nZTsHj"
   },
   "outputs": [],
   "source": [
    "def download_history():\n",
    "    import pickle\n",
    "    #from google.colab import files\n",
    "\n",
    "    with open('history.pkl', 'wb') as f:\n",
    "        pickle.dump(history.history, f)\n",
    "\n",
    "    #files.download('history.pkl')\n",
    "\n",
    "download_history()"
   ]
  },
  {
   "cell_type": "markdown",
   "metadata": {},
   "source": [
    "You will also need to submit this notebook for grading. To download it, click on the `File` tab in the upper left corner of the screen then click on `Download` -> `Download .ipynb`. You can name it anything you want as long as it is a valid `.ipynb` (jupyter notebook) file."
   ]
  },
  {
   "cell_type": "markdown",
   "metadata": {
    "id": "joAaZSWWpbOI"
   },
   "source": [
    "**Congratulations on finishing this week's assignment!**\n",
    "\n",
    "You have successfully implemented a convolutional neural network that classifies images of cats and dogs, along with the helper functions needed to pre-process the images!\n",
    "\n",
    "**Keep it up!**"
   ]
  }
 ],
 "metadata": {
  "accelerator": "GPU",
  "kernelspec": {
   "display_name": "Python 3",
   "language": "python",
   "name": "python3"
  },
  "language_info": {
   "codemirror_mode": {
    "name": "ipython",
    "version": 3
   },
   "file_extension": ".py",
   "mimetype": "text/x-python",
   "name": "python",
   "nbconvert_exporter": "python",
   "pygments_lexer": "ipython3",
   "version": "3.7.6"
  }
 },
 "nbformat": 4,
 "nbformat_minor": 5
}
